{
 "cells": [
  {
   "cell_type": "code",
   "execution_count": 1,
   "metadata": {},
   "outputs": [],
   "source": [
    "%%bash\n",
    "cd /Volumes/AHN/captive_ape_microbiome/\n",
    "cp metadata/metadata_gyrb_amp_meta_passing_samples.txt results/gyrb/inputs/metadata_gyrb_amp_meta_passing_samples.txt\n",
    "cd results/gyrb/\n",
    "\n",
    "cp processing/gyrb_amp_meta/ASVs_filtered.fasta inputs/ASVs_filtered.fasta\n",
    "cp processing/gyrb_amp_meta/ASVs_filtered_counts.tsv inputs/ASVs_filtered_counts.tsv\n",
    "cp processing/gyrb_amp_meta/assign_taxonomy/ASVs_taxonomy.txt inputs/ASVs_taxonomy.txt\n",
    "\n",
    "cp processing/gyrb_amp_meta/phylogeny/ASVs_filtered_ref_full.fasta.aln.full.rooted.tree inputs/ASVs_filtered_ref_full.tree\n",
    "\n",
    "cp processing/moeller_sup/moeller_codiv_Bacteroidaceae.fna inputs/moeller_codiv_Bacteroidaceae.fna\n",
    "cp processing/moeller_sup/moeller_codiv_HRclades.txt inputs/moeller_codiv_HRclades.txt\n",
    "cp processing/moeller_sup/moeller_codiv_lin_Bt1.tree inputs/moeller_codiv_lin_Bt1.tree\n",
    "cp processing/moeller_sup/moeller_codiv_lin_Bt2.tree inputs/moeller_codiv_lin_Bt2.tree\n",
    "cp processing/moeller_sup/moeller_codiv_lin_Bt3.tree inputs/moeller_codiv_lin_Bt3.tree\n"
   ]
  },
  {
   "cell_type": "code",
   "execution_count": null,
   "metadata": {},
   "outputs": [],
   "source": []
  },
  {
   "cell_type": "code",
   "execution_count": null,
   "metadata": {},
   "outputs": [],
   "source": []
  }
 ],
 "metadata": {
  "jupytext": {
   "formats": "ipynb,md"
  },
  "kernelspec": {
   "display_name": "Python 3",
   "language": "python",
   "name": "python3"
  },
  "language_info": {
   "codemirror_mode": {
    "name": "ipython",
    "version": 3
   },
   "file_extension": ".py",
   "mimetype": "text/x-python",
   "name": "python",
   "nbconvert_exporter": "python",
   "pygments_lexer": "ipython3",
   "version": "3.7.7"
  }
 },
 "nbformat": 4,
 "nbformat_minor": 4
}
