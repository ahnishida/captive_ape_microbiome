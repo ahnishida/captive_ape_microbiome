{
 "cells": [
  {
   "cell_type": "code",
   "execution_count": 3,
   "metadata": {},
   "outputs": [],
   "source": [
    "import os\n",
    "import sys\n",
    "import subprocess\n",
    "import pandas as pd\n",
    "from ete3 import Tree\n",
    "from collections import Counter"
   ]
  },
  {
   "cell_type": "code",
   "execution_count": 4,
   "metadata": {},
   "outputs": [],
   "source": [
    "ROOT_DIR = '/Volumes/AHN/captive_ape_microbiome/'"
   ]
  },
  {
   "cell_type": "code",
   "execution_count": 5,
   "metadata": {},
   "outputs": [],
   "source": [
    "os.chdir(ROOT_DIR)\n",
    "%run scripts/analyses/functions.ipynb"
   ]
  },
  {
   "cell_type": "code",
   "execution_count": 6,
   "metadata": {},
   "outputs": [],
   "source": [
    "INDIR = ROOT_DIR+'results/gyrb/inputs/'\n",
    "OUTDIR = ROOT_DIR+'results/gyrb/analyses/'"
   ]
  },
  {
   "cell_type": "code",
   "execution_count": 7,
   "metadata": {},
   "outputs": [
    {
     "data": {
      "text/plain": [
       "0"
      ]
     },
     "execution_count": 7,
     "metadata": {},
     "output_type": "execute_result"
    }
   ],
   "source": [
    "os.system(f'mkdir -pv {OUTDIR}/intermediate_outputs')\n",
    "os.system(f'mkdir -pv {OUTDIR}/tables')\n",
    "os.system(f'mkdir -pv {OUTDIR}/figures')"
   ]
  },
  {
   "cell_type": "code",
   "execution_count": 8,
   "metadata": {},
   "outputs": [],
   "source": [
    "tree_file = f'{INDIR}/physeq_Bacteroidales_ASVs_ref.tree'\n",
    "full_tree = Tree(tree_file, format=0)"
   ]
  },
  {
   "cell_type": "code",
   "execution_count": 9,
   "metadata": {},
   "outputs": [],
   "source": [
    "#inputs\n",
    "metadata_file = f'{INDIR}/physeq_metadata_passing_samples.txt'\n",
    "tax_table_file = f'{INDIR}/physeq_Bacteroidales_taxonomy.txt'\n",
    "asv_table_file = f'{INDIR}/physeq_Bacteroidales_asv_tab.txt'\n",
    "asv_fasta_file = f'{INDIR}/physeq_Bacteroidales_asv.fasta'\n",
    "moeller_codiv_fasta = f'{INDIR}/moeller_codiv_Bacteroidaceae.fna'\n",
    "#set blast percent identity cutoff \n",
    "pident_cutoff = 95\n",
    "len_cutoff = .80"
   ]
  },
  {
   "cell_type": "code",
   "execution_count": 10,
   "metadata": {},
   "outputs": [
    {
     "name": "stdout",
     "output_type": "stream",
     "text": [
      "HR           7456\n",
      "Unique_CP      96\n",
      "MX             44\n",
      "Name: HR_cat, dtype: int64\n",
      "HR_human                    6683\n",
      "HR_wild_bonobo               378\n",
      "HR_wild_chimp                257\n",
      "HR_wild_gorilla              138\n",
      "Unique_CP                     96\n",
      "MX_human_single_wild_ape      33\n",
      "MX_2_wild_apes                 6\n",
      "MX_human_2_wild_apes           5\n",
      "Name: HR_type, dtype: int64\n"
     ]
    }
   ],
   "source": [
    "gyrb_asvs = asv_hr_table(asv_table_file,metadata_file,tax_table_file)\n",
    "gyrb_asvs.to_csv(f'{OUTDIR}/tables/gyrb_asv_hr_table.txt',sep='\\t',index=False)\n",
    "print(gyrb_asvs['HR_cat'].value_counts())\n",
    "print(gyrb_asvs['HR_type'].value_counts())"
   ]
  },
  {
   "cell_type": "code",
   "execution_count": 11,
   "metadata": {},
   "outputs": [],
   "source": [
    "#collapse asvs into hr clades\n",
    "#host_restricted_clades loaded from functions.ipynb \n",
    "clades_df,clades_ASVs_df = host_restricted_clades(asv_table_file,metadata_file,tax_table_file,tree_file) \n"
   ]
  },
  {
   "cell_type": "code",
   "execution_count": 12,
   "metadata": {},
   "outputs": [
    {
     "name": "stdout",
     "output_type": "stream",
     "text": [
      "(356, 23)\n",
      "numbers of clades in various host types\n",
      "HR_human                    261\n",
      "MX_human_single_wild_ape     33\n",
      "HR_wild_chimp                21\n",
      "HR_wild_bonobo               13\n",
      "HR_wild_gorilla               9\n",
      "MX_human_2_wild_apes          7\n",
      "Unique_CP                     6\n",
      "MX_2_wild_apes                5\n",
      "MX_3_wild_apes                1\n",
      "Name: HR_type, dtype: int64\n",
      "(6957, 13)\n",
      "number of ASVs falling into various clades\n",
      "HR_human                    6173\n",
      "HR_wild_bonobo               354\n",
      "HR_wild_chimp                157\n",
      "HR_wild_gorilla              100\n",
      "MX_human_single_wild_ape      90\n",
      "MX_human_2_wild_apes          33\n",
      "MX_2_wild_apes                30\n",
      "MX_3_wild_apes                11\n",
      "Unique_CP                      9\n",
      "Name: HR_type, dtype: int64\n",
      "How many of the clades are present in captive apes?\n",
      "52\n",
      "Are these clades host-restricted, mixed host, or unique to captive?\n",
      "HR           30\n",
      "MX           16\n",
      "Unique_CP     6\n",
      "Name: HR_cat, dtype: int64\n",
      "18 captive clades in 0.25 of captive samples of any species\n",
      "HR_human                    9\n",
      "MX_human_single_wild_ape    4\n",
      "Unique_CP                   2\n",
      "HR_wild_chimp               1\n",
      "MX_2_wild_apes              1\n",
      "MX_human_2_wild_apes        1\n",
      "Name: HR_type, dtype: int64\n"
     ]
    }
   ],
   "source": [
    "#host-restricted, mixed-host, and unique-to-captive clades\n",
    "print(clades_df.shape)\n",
    "print('numbers of clades in various host types')\n",
    "print(clades_df['HR_type'].value_counts())\n",
    "\n",
    "#Used for Figure3, where tips on tree are ASVs not clades\n",
    "print(clades_ASVs_df.shape)\n",
    "print('number of ASVs falling into various clades')\n",
    "print(clades_ASVs_df['HR_type'].value_counts())\n",
    "\n",
    "#Whats the breakdown of clades present in captive ape samples?\n",
    "print('How many of the clades are present in captive apes?')\n",
    "captive_clades = clades_df[clades_df['CP_pres']==True]\n",
    "print(len(captive_clades))\n",
    "print('Are these clades host-restricted, mixed host, or unique to captive?')\n",
    "print(captive_clades['HR_cat'].value_counts())\n",
    "\n",
    "#Whats the breakdown of clades present in 25% of captive ape samples of any species?\n",
    "threshold=0.25\n",
    "prominent_clades = clades_df.loc[(clades_df.captive_bonobo > threshold) | \n",
    "              (clades_df.captive_chimp > threshold)  |\n",
    "              (clades_df.captive_gorilla > threshold)|\n",
    "              (clades_df.captive_orangutan > threshold)]\n",
    "print(len(prominent_clades),'captive clades in',threshold,'of captive samples of any species')\n",
    "clades_df['CP_prominent'] = clades_df['cladeName'].apply(lambda x: x in list(prominent_clades['cladeName']))\n",
    "clades_df_CP_prominent = clades_df[clades_df['CP_prominent']==True]\n",
    "print(clades_df_CP_prominent['HR_type'].value_counts())"
   ]
  },
  {
   "cell_type": "code",
   "execution_count": 13,
   "metadata": {},
   "outputs": [],
   "source": [
    "clades_df['heatmap_col1'] = clades_df.apply(\n",
    "    lambda row: 'MX' \n",
    "        if 'MX' in row['HR_type'] else row['HR_type'],axis=1)\n",
    "clades_df['heatmap_col2'] = clades_df.apply(\n",
    "    lambda row: row['heatmap_col1'] \n",
    "        if max(row['captive_bonobo':'wild_gorilla'])>threshold else 'Blank',axis=1)\n",
    "clades_df['heatmap_col3'] = clades_df.apply(\n",
    "    lambda row: row['heatmap_col1'] \n",
    "        if max(row['captive_bonobo':'captive_orangutan'])>threshold else 'Blank',axis=1)"
   ]
  },
  {
   "cell_type": "markdown",
   "metadata": {},
   "source": [
    "### Determine ASVs that hit to Moeller co-div clades"
   ]
  },
  {
   "cell_type": "code",
   "execution_count": 14,
   "metadata": {},
   "outputs": [
    {
     "name": "stdout",
     "output_type": "stream",
     "text": [
      "\r\n",
      "\r\n",
      "Building a new DB, current time: 12/01/2020 16:35:28\r\n",
      "New DB name:   /Volumes/AHN/captive_ape_microbiome/results/gyrb/analyses//intermediate_outputs/moeller_codiv_Bacteroidaceae.fna\r\n",
      "New DB title:  /Volumes/AHN/captive_ape_microbiome/results/gyrb/analyses//intermediate_outputs/moeller_codiv_Bacteroidaceae.fna\r\n",
      "Sequence type: Nucleotide\r\n",
      "Keep MBits: T\r\n",
      "Maximum file size: 1000000000B\r\n",
      "Adding sequences from FASTA; added 208 sequences in 0.00991416 seconds.\r\n"
     ]
    }
   ],
   "source": [
    "!cp {INDIR}/moeller_codiv_Bacteroidaceae.fna {OUTDIR}/intermediate_outputs/moeller_codiv_Bacteroidaceae.fna\n",
    "!makeblastdb -in {OUTDIR}/intermediate_outputs/moeller_codiv_Bacteroidaceae.fna -dbtype nucl\n",
    "!blastn -query {asv_fasta_file} -db {OUTDIR}/intermediate_outputs/moeller_codiv_Bacteroidaceae.fna -outfmt \"7 qseqid salltitles sseqid pident length qlen evalue\" -out {OUTDIR}/intermediate_outputs/codiv_blastout_ASVs.txt -max_target_seqs 5"
   ]
  },
  {
   "cell_type": "code",
   "execution_count": 15,
   "metadata": {},
   "outputs": [
    {
     "name": "stdout",
     "output_type": "stream",
     "text": [
      "344 ASVs matching co-div clades with greater than 95 percent identity\n",
      "Bt2_clade1_bonobo     93\n",
      "Bt3_clade1_human      87\n",
      "Bt2_clade1_chimp      39\n",
      "Bt2_clade2_bonobo     34\n",
      "Bt1_clade1_bonobo     24\n",
      "Bt3_clade1_chimp      18\n",
      "Bt3_clade1_bonobo     15\n",
      "Bt1_clade1_gorilla    11\n",
      "Bt1_clade1_chimp       8\n",
      "Bt2_clade1_gorilla     8\n",
      "Bt2_clade2_chimp       7\n",
      "Name: codiv_clade, dtype: int64\n"
     ]
    }
   ],
   "source": [
    "#filter blast output to top hit per ASV, remove hits not pass thresholds\n",
    "blast_res = pd.read_csv(f'{OUTDIR}/intermediate_outputs/codiv_blastout_ASVs.txt',sep='\\t',comment='#',header=None)\n",
    "blast_res.columns = ['ASV','codiv_clade_seq','sseqid','pident','length','qlen','evalue']\n",
    "blast_res = blast_res.groupby('ASV').head(1).reset_index(drop=True) #get top hit\n",
    "blast_res_pass = blast_res[blast_res['pident']>pident_cutoff].reset_index(drop=True) #QC filter\n",
    "blast_res_pass = blast_res_pass[blast_res_pass['length']>(250*len_cutoff)].reset_index(drop=True) #QC filter\n",
    "print(len(blast_res_pass),'ASVs matching co-div clades with greater than',pident_cutoff,'percent identity')\n",
    "blast_res_pass['codiv_clade'] = blast_res_pass['codiv_clade_seq'].apply(lambda x: x.split(' ')[1])\n",
    "blast_res_pass['lineage'] = blast_res_pass['codiv_clade'].apply(lambda x: x.split('_')[0]) \n",
    "blast_res_pass = blast_res_pass[['ASV','codiv_clade_seq', 'codiv_clade','lineage']]\n",
    "#print(blast_res_pass.head())\n",
    "print(blast_res_pass['codiv_clade'].value_counts())\n",
    "#output hits passing that will be used to determine the mcra of the lineage\n",
    "blast_res_pass.to_csv(f'{OUTDIR}/intermediate_outputs/codiv_clades_ASVs.txt',sep='\\t',index=False)"
   ]
  },
  {
   "cell_type": "markdown",
   "metadata": {},
   "source": [
    "### Determine HR clades that hit to Moeller co-div clades"
   ]
  },
  {
   "cell_type": "code",
   "execution_count": 16,
   "metadata": {},
   "outputs": [
    {
     "name": "stdout",
     "output_type": "stream",
     "text": [
      "(356, 27)\n",
      "codiv_clade         lineage\n",
      "Bt1_clade1_bonobo   Bt1         1\n",
      "Bt1_clade1_chimp    Bt1         1\n",
      "Bt1_clade1_gorilla  Bt1         1\n",
      "Bt2_clade1_bonobo   Bt2         1\n",
      "Bt2_clade1_chimp    Bt2         2\n",
      "Bt2_clade1_gorilla  Bt2         1\n",
      "Bt2_clade2_bonobo   Bt2         1\n",
      "Bt2_clade2_chimp    Bt2         1\n",
      "Bt3_clade1_bonobo   Bt3         1\n",
      "Bt3_clade1_chimp    Bt3         2\n",
      "Bt3_clade1_human    Bt3        19\n",
      "dtype: int64\n"
     ]
    }
   ],
   "source": [
    "print(clades_df.shape)\n",
    "clades_ASVs_codiv = clades_ASVs_df.merge(blast_res_pass, how='left', left_on='ASVs',right_on='ASV')\n",
    "clades_ASVs_codiv = clades_ASVs_codiv.drop(['ASV'],axis=1)\n",
    "clades_ASVs_codiv = clades_ASVs_codiv[~clades_ASVs_codiv['lineage'].isna()]\n",
    "clades_ASVs_codiv = clades_ASVs_codiv[['cladeName','codiv_clade','lineage']].drop_duplicates()\n",
    "clades_df_codiv = clades_df.merge(clades_ASVs_codiv, how='left',on='cladeName')\n",
    "print(clades_df_codiv.groupby(['codiv_clade','lineage']).size())"
   ]
  },
  {
   "cell_type": "code",
   "execution_count": 17,
   "metadata": {},
   "outputs": [],
   "source": [
    "#Output table for Figure 2 \n",
    "os.system(f'mkdir {OUTDIR}/figures')\n",
    "clades_df_sh = clades_df_codiv[['cladeName', 'cladeTax', 'sampleNum', 'ASVsNum', \n",
    "      'HR_sampleTypes', 'HR_sampleNum','HR_cat', 'HR_type', \n",
    "      'CP_pres','CP_prominent', 'CP_sampleTypes', 'CP_sampleNum','captiveNames',\n",
    "       'captive_bonobo', 'captive_chimp', 'captive_gorilla',\n",
    "       'captive_orangutan', 'non_industrialized_human', 'industrialized_human',\n",
    "       'wild_bonobo', 'wild_chimp', 'wild_gorilla',\n",
    "       'heatmap_col1','heatmap_col2','heatmap_col3',\n",
    "        'codiv_clade','lineage']]\n",
    "clades_df_sh.to_csv(f'{OUTDIR}/intermediate_outputs/HRclades_wholetree_table.txt',sep='\\t',index=False)"
   ]
  },
  {
   "cell_type": "markdown",
   "metadata": {},
   "source": [
    "### search full tree for host-restricted clades"
   ]
  },
  {
   "cell_type": "code",
   "execution_count": 18,
   "metadata": {},
   "outputs": [],
   "source": [
    "collasped_tree = Tree(tree_file, format=0)\n",
    "\n",
    "def collapse_node(tree,clade_ASVs,cladeName):\n",
    "    if len(clade_ASVs) > 1:\n",
    "        node = tree.get_common_ancestor(clade_ASVs)\n",
    "        node.name = cladeName\n",
    "        children = node.get_children()\n",
    "        for child in children:\n",
    "            node.remove_child(child)\n",
    "    else:\n",
    "        ASV = clade_ASVs[0]\n",
    "        leaf = tree.get_leaves_by_name(name=ASV)[0]\n",
    "        leaf.name = cladeName\n",
    "\n",
    "for clade,row in clades_df.iterrows():\n",
    "    collapse_node(collasped_tree,row['ASVs'],row['cladeName'])\n",
    "\n",
    "clade_leaves = [leaf for leaf in collasped_tree.get_leaves() if 'clade' in leaf.name] \n",
    "collasped_tree.prune(clade_leaves) #eliminate leftover ASVs and ref taxa\n",
    "collasped_tree.write(format=2, outfile=f'{OUTDIR}/intermediate_outputs/HRclades_wholetree.tre')"
   ]
  },
  {
   "cell_type": "markdown",
   "metadata": {},
   "source": [
    "### Figure 3 output table"
   ]
  },
  {
   "cell_type": "code",
   "execution_count": 19,
   "metadata": {},
   "outputs": [
    {
     "name": "stdout",
     "output_type": "stream",
     "text": [
      "7596 total ASVs\n",
      "6957 ASVs that fall into HR clades\n",
      "344 ASVs that hit greater >95% identity to codiv clade\n",
      "taxonomic breakdown of ASVs\n",
      "f__Bacteroidaceae        5019\n",
      "f__Rikenellaceae          586\n",
      "f__UBA932                 427\n",
      "f__Tannerellaceae         411\n",
      "f__Porphyromonadaceae     344\n",
      "f__Muribaculaceae         333\n",
      "f__Marinifilaceae         180\n",
      "unclassified               76\n",
      "f__Barnesiellaceae         75\n",
      "f__Coprobacteraceae        40\n",
      "f__Paludibacteraceae       34\n",
      "f__Dysgonomonadaceae       31\n",
      "f__UBA11471                24\n",
      "f__Bacteroidaceae_A        14\n",
      "f__F082                     2\n",
      "Name: Family, dtype: int64\n",
      "taxonomic breakdown of ASVs found in captive apes\n",
      "f__Bacteroidaceae        103\n",
      "f__Tannerellaceae         27\n",
      "f__Porphyromonadaceae      5\n",
      "unclassified               2\n",
      "f__Paludibacteraceae       1\n",
      "f__Barnesiellaceae         1\n",
      "Name: Family, dtype: int64\n",
      "breakdown of HRtype for individual ASVs that dont fall into HR clades\n",
      "HR_human                    561\n",
      "HR_wild_chimp               104\n",
      "HR_wild_gorilla              41\n",
      "Unique_CP                    38\n",
      "MX_human_single_wild_ape     33\n",
      "HR_wild_bonobo               24\n",
      "MX_2_wild_apes                6\n",
      "MX_human_2_wild_apes          5\n",
      "Name: ASV_HR_type, dtype: int64\n",
      "breakdown of HRtype for individual ASVs that fall into HR clades\n",
      "HR_human           6122\n",
      "HR_wild_bonobo      354\n",
      "HR_wild_chimp       153\n",
      "HR_wild_gorilla      97\n",
      "Unique_CP            58\n",
      "Name: ASV_HR_type, dtype: int64\n"
     ]
    }
   ],
   "source": [
    "#taxonomic info, family and genus\n",
    "tax_table = pd.read_csv(tax_table_file,sep='\\t',index_col=None)\n",
    "tax_table['Family'] = tax_table['Family'].apply(lambda x: 'unclassified' if 'unclassified' in x else x)\n",
    "tax_table['Genus'] = tax_table['Genus'].apply(lambda x: 'unclassified' if 'unclassified' in x else x)\n",
    "tax_fam_dict = dict(zip(tax_table['ASV'], tax_table['Family']))\n",
    "tax_gen_dict = dict(zip(tax_table['ASV'], tax_table['Genus']))\n",
    "\n",
    "#sample to sample type category\n",
    "metadata = pd.read_csv(metadata_file,sep='\\t',index_col=None)\n",
    "sample_type_dict = dict(zip(metadata['X.SampleID'], metadata['Description']))\n",
    "\n",
    "#ASV to sample names dict\n",
    "asv_table = pd.read_csv(asv_table_file,sep='\\t',index_col=0)\n",
    "sampleNames = asv_table.apply(lambda row: list(row.index[row>0]),axis=1)\n",
    "ASV_sampleName_dict = dict(zip(sampleNames.index,sampleNames))\n",
    "\n",
    "#generate ASV dataframe \n",
    "allASVs = [leaf.name for leaf in full_tree.get_leaves() if 'ASV' in leaf.name]\n",
    "allASVs = pd.DataFrame(allASVs,columns=['ASV'])\n",
    "print(len(allASVs),'total ASVs')\n",
    "\n",
    "#Host restricted clades \n",
    "#print(clades_ASVs_df.head()) \n",
    "print(len(clades_ASVs_df),'ASVs that fall into HR clades')\n",
    "#Moeller codiv clades\n",
    "#print(blast_res_pass.head())\n",
    "print(len(blast_res_pass),'ASVs that hit greater >95% identity to codiv clade')\n",
    "\n",
    "#combine all ASVs, HR clade info, and codiv clade info\n",
    "allASVs_HRclade = allASVs.merge(clades_ASVs_df, how='left', left_on='ASV',right_on='ASVs')\n",
    "allASVs_HRclade_codiv = allASVs_HRclade.merge(blast_res_pass, how='left', on='ASV')\n",
    "allASVs_HRclade_codiv.head()\n",
    "\n",
    "#add taxonomy\n",
    "allASVs_HRclade_codiv['Family'] = allASVs_HRclade_codiv['ASV'].apply(lambda ASV: tax_fam_dict[ASV])\n",
    "allASVs_HRclade_codiv['Genus'] = allASVs_HRclade_codiv['ASV'].apply(lambda ASV: tax_gen_dict[ASV])\n",
    "print('taxonomic breakdown of ASVs')\n",
    "print(allASVs_HRclade_codiv['Family'].value_counts())\n",
    "\n",
    "#add captive sp and site description info\n",
    "metadata['Description_site'] = metadata['Description']+'_' +metadata['site_code']\n",
    "sample_type_site_dict = dict(zip(metadata['X.SampleID'], metadata['Description_site']))\n",
    "allASVs_HRclade_codiv['sampleNames'] = allASVs_HRclade_codiv['ASV'].apply(lambda x: ASV_sampleName_dict[x])\n",
    "description_df = allASVs_HRclade_codiv['sampleNames'].apply(lambda l: pd.Series(\n",
    "    [sample_type_site_dict[name] for name in l]).value_counts())\n",
    "description_df = description_df.fillna(0) \n",
    "description_cp_df= description_df[['captive_chimp_HOUZ','captive_gorilla_HOUZ','captive_orangutan_HOUZ',\n",
    "'captive_bonobo_COLZ','captive_gorilla_COLZ','captive_orangutan_COLZ','captive_chimp_PC']]\n",
    "allASVs_HRclade_codiv_cp = allASVs_HRclade_codiv.merge(description_cp_df, left_index=True,right_index=True)\n",
    "allASVs_HRclade_codiv_cp['captive_all'] = allASVs_HRclade_codiv_cp.loc[:,\n",
    "                        'captive_chimp_HOUZ':'captive_chimp_PC'].sum(axis=1)\n",
    "print('taxonomic breakdown of ASVs found in captive apes')\n",
    "print(allASVs_HRclade_codiv_cp[allASVs_HRclade_codiv_cp['captive_all']>0]['Family'].value_counts())\n",
    "\n",
    "#add ASV HR type, \n",
    "#ind ASVs in mixed clades may be HR, also ASV not in HR clades may be HR\n",
    "ASV_HR_type = gyrb_asvs[['ASV','HR_type']]\n",
    "ASV_HR_type.columns = ['ASV','ASV_HR_type']\n",
    "allASVs_HRclade_codiv_cp_asv = allASVs_HRclade_codiv_cp.merge(ASV_HR_type,how='left',on='ASV')\n",
    "print('breakdown of HRtype for individual ASVs that dont fall into HR clades')\n",
    "print(allASVs_HRclade_codiv_cp_asv[allASVs_HRclade_codiv_cp_asv['HR_cat']!='HR']['ASV_HR_type'].value_counts())\n",
    "print('breakdown of HRtype for individual ASVs that fall into HR clades')\n",
    "print(allASVs_HRclade_codiv_cp_asv[allASVs_HRclade_codiv_cp_asv['HR_cat']=='HR']['ASV_HR_type'].value_counts())\n",
    "allASVs_HRclade_codiv_cp_asv = allASVs_HRclade_codiv_cp_asv.drop(columns = ['sampleNames','ASVs'])\n",
    "\n",
    "allASVs_HRclade_codiv_cp_asv.to_csv(f'{OUTDIR}/intermediate_outputs/HRclades_subtrees_table.txt',sep='\\t',index=False)\n"
   ]
  },
  {
   "cell_type": "code",
   "execution_count": null,
   "metadata": {},
   "outputs": [],
   "source": []
  },
  {
   "cell_type": "code",
   "execution_count": null,
   "metadata": {},
   "outputs": [],
   "source": []
  },
  {
   "cell_type": "code",
   "execution_count": null,
   "metadata": {},
   "outputs": [],
   "source": []
  }
 ],
 "metadata": {
  "kernelspec": {
   "display_name": "Python [conda env:ete]",
   "language": "python",
   "name": "conda-env-ete-py"
  },
  "language_info": {
   "codemirror_mode": {
    "name": "ipython",
    "version": 3
   },
   "file_extension": ".py",
   "mimetype": "text/x-python",
   "name": "python",
   "nbconvert_exporter": "python",
   "pygments_lexer": "ipython3",
   "version": "3.6.10"
  }
 },
 "nbformat": 4,
 "nbformat_minor": 4
}
