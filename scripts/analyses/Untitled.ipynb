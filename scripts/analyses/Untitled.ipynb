{
 "cells": [
  {
   "cell_type": "code",
   "execution_count": 16,
   "metadata": {},
   "outputs": [
    {
     "name": "stdout",
     "output_type": "stream",
     "text": [
      "  Old_SampleID            dataset         genus_sp  \\\n",
      "0            1  gyrb_moeller_wild  Pan_troglodytes   \n",
      "1           10  gyrb_moeller_wild  Gorilla_gorilla   \n",
      "2          100  gyrb_moeller_wild  Gorilla_gorilla   \n",
      "3          101  gyrb_moeller_wild  Gorilla_gorilla   \n",
      "4          102  gyrb_moeller_wild  Gorilla_gorilla   \n",
      "\n",
      "                       subspecies              common_name uniqueid  \\\n",
      "0  Pan_troglodytes_schweinfurthii       eastern_chimpanzee        9   \n",
      "1         Gorilla_gorilla_gorilla  western_lowland_gorilla   CR1426   \n",
      "2         Gorilla_gorilla_gorilla  western_lowland_gorilla   CR5756   \n",
      "3         Gorilla_gorilla_gorilla  western_lowland_gorilla   CR6097   \n",
      "4         Gorilla_gorilla_gorilla  western_lowland_gorilla   CR2138   \n",
      "\n",
      "          site site_code   country captivity_status amplicon  \\\n",
      "0     TZ.GM.MT        GM       TZA             wild       Bt   \n",
      "1  Campo_Maan         CP  Cameroon             wild       Bt   \n",
      "2  Campo_Maan         CP  Cameroon             wild       Bt   \n",
      "3  Campo_Maan         CP  Cameroon             wild       Bt   \n",
      "4  Campo_Maan         CP  Cameroon             wild       Bt   \n",
      "\n",
      "             sample   Description           X.SampleID  \n",
      "0       wd.chi.GM.9    wild_chimp       wd.chi.GM.9.Bt  \n",
      "1  wd.gor.CP.CR1426  wild_gorilla  wd.gor.CP.CR1426.Bt  \n",
      "2  wd.gor.CP.CR5756  wild_gorilla  wd.gor.CP.CR5756.Bt  \n",
      "3  wd.gor.CP.CR6097  wild_gorilla  wd.gor.CP.CR6097.Bt  \n",
      "4  wd.gor.CP.CR2138  wild_gorilla  wd.gor.CP.CR2138.Bt  \n"
     ]
    }
   ],
   "source": [
    "import os\n",
    "import pandas as pd\n",
    "import seaborn as sns\n",
    "import matplotlib \n",
    "ROOT_DIR = '/Volumes/AHN/captive_ape_microbiome/'\n",
    "INDIR = ROOT_DIR+'results/gyrb/inputs/ps_Bacteroidales_asvRefTree'\n",
    "metadata_file = f'{INDIR}/physeq_metadata_passing_samples.txt'\n",
    "metadata = pd.read_csv(metadata_file,sep='\\t',index_col=None)\n",
    "print(metadata.head())"
   ]
  },
  {
   "cell_type": "code",
   "execution_count": 20,
   "metadata": {},
   "outputs": [
    {
     "name": "stdout",
     "output_type": "stream",
     "text": [
      "                       dataset               Description           site  \\\n",
      "0                AsnicarF_2017      industrialized_human            ITA   \n",
      "1                BackhedF_2015      industrialized_human            SWE   \n",
      "2        Bengtsson-PalmeJ_2015      industrialized_human            SWE   \n",
      "3                 BritoIL_2016  non_industrialized_human            FJI   \n",
      "4                        CM_cf      industrialized_human            ITA   \n",
      "..                         ...                       ...            ...   \n",
      "87   gyrb_nishida_captive_wild              wild_gorilla             XX   \n",
      "88   gyrb_nishida_captive_wild              wild_gorilla             XX   \n",
      "89   gyrb_nishida_captive_wild              wild_gorilla             XX   \n",
      "90   gyrb_nishida_captive_wild              wild_gorilla             XX   \n",
      "91  gyrb_nishida_projectchimps             captive_chimp  ProjectChimps   \n",
      "\n",
      "   site_code  count  \n",
      "0        ITA     14  \n",
      "1        SWE    343  \n",
      "2        SWE     70  \n",
      "3        FJI    248  \n",
      "4        ITA     85  \n",
      "..       ...    ...  \n",
      "87        DG      2  \n",
      "88        EK      2  \n",
      "89        LU      2  \n",
      "90        OP      8  \n",
      "91        PC     17  \n",
      "\n",
      "[92 rows x 5 columns]\n"
     ]
    }
   ],
   "source": [
    "gyrb_meta_tab = metadata.groupby(['dataset','Description','site','site_code']).size().reset_index(name=\"count\")\n",
    "print(gyrb_meta_tab)\n",
    "gyrb_meta_tab = gyrb_meta_tab[gyrb_meta_tab['dataset'].isin(['gyrb_moeller_wild','gyrb_nishida_captive_wild','gyrb_nishida_projectchimps'])]\n",
    "gyrb_meta_tab.to_csv('gyrb_metadata_summary.txt',sep='\\t',index=False)"
   ]
  },
  {
   "cell_type": "code",
   "execution_count": null,
   "metadata": {},
   "outputs": [],
   "source": []
  }
 ],
 "metadata": {
  "kernelspec": {
   "display_name": "Python [conda env:ete]",
   "language": "python",
   "name": "conda-env-ete-py"
  },
  "language_info": {
   "codemirror_mode": {
    "name": "ipython",
    "version": 3
   },
   "file_extension": ".py",
   "mimetype": "text/x-python",
   "name": "python",
   "nbconvert_exporter": "python",
   "pygments_lexer": "ipython3",
   "version": "3.6.10"
  }
 },
 "nbformat": 4,
 "nbformat_minor": 4
}
