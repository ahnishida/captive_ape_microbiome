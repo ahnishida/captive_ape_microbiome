{
 "cells": [
  {
   "cell_type": "code",
   "execution_count": 1,
   "metadata": {},
   "outputs": [],
   "source": [
    "import os\n",
    "import pandas as pd\n",
    "#from Bio import SeqIO\n",
    "#from Bio import Seq\n",
    "\n",
    "os.getcwd()\n",
    "os.chdir('/Volumes/AHN/captive_ape_microbiome')\n",
    "from ete3 import Tree\n"
   ]
  },
  {
   "cell_type": "markdown",
   "metadata": {},
   "source": [
    "tree_file = \"results/gyrb_all/Bt/phylogeny/ASVs_filtered_ref.fasta.aln.tree\"\n",
    "tree = Tree(tree_file)"
   ]
  },
  {
   "cell_type": "markdown",
   "metadata": {},
   "source": [
    "Process fna supplement from moeller et al. 2016 to create phylogeny in order to pick out the subtrees that correspond to co-diversifying clades. Transalign generates error from some seqs because the translated seqs have stop codons.  "
   ]
  },
  {
   "cell_type": "code",
   "execution_count": 3,
   "metadata": {},
   "outputs": [
    {
     "name": "stdout",
     "output_type": "stream",
     "text": [
      "This is cutadapt 2.5 with Python 3.7.7\n",
      "Command line parameters: -g CGGAGGTAARTTCGAYAAAGG --overlap 21 -e .15 --discard-untrimmed -o results/moeller_sup/Bacteroidaceae.fna data/moeller_sup/Bacteroidaceae.fna\n",
      "Processing reads on 1 core in single-end mode ...\n",
      "Finished in 0.69 s (954 us/read; 0.06 M reads/minute).\n",
      "\n",
      "=== Summary ===\n",
      "\n",
      "Total reads processed:                     724\n",
      "Reads with adapters:                       724 (100.0%)\n",
      "Reads written (passing filters):           724 (100.0%)\n",
      "\n",
      "Total basepairs processed:       217,200 bp\n",
      "Total written (filtered):        200,991 bp (92.5%)\n",
      "\n",
      "=== Adapter 1 ===\n",
      "\n",
      "Sequence: CGGAGGTAARTTCGAYAAAGG; Type: regular 5'; Length: 21; Trimmed: 724 times.\n",
      "\n",
      "No. of allowed errors:\n",
      "0-5 bp: 0; 6-12 bp: 1; 13-19 bp: 2; 20-21 bp: 3\n",
      "\n",
      "Overview of removed sequences\n",
      "length\tcount\texpect\tmax.err\terror counts\n",
      "21\t194\t0.0\t3\t194\n",
      "22\t192\t0.0\t3\t192\n",
      "23\t201\t0.0\t3\t201\n",
      "24\t137\t0.0\t3\t137\n"
     ]
    },
    {
     "name": "stderr",
     "output_type": "stream",
     "text": [
      "Translate nucleic acid sequences\n",
      "Generate an alignment of nucleic coding regions from aligned proteins\n",
      "Error: Guide protein sequence Gorilla3374716_2 not found in nucleic sequence Gorilla3374716\n",
      "Error: Guide protein sequence Human3058374_2 not found in nucleic sequence Human3058374\n",
      "Error: Guide protein sequence Human9403092_2 not found in nucleic sequence Human9403092\n",
      "Error: Guide protein sequence Chimp10413648_2 not found in nucleic sequence Chimp10413648\n",
      "Error: Guide protein sequence Chimp10757854_2 not found in nucleic sequence Chimp10757854\n",
      "Error: Guide protein sequence Chimp10796222_2 not found in nucleic sequence Chimp10796222\n",
      "Error: Guide protein sequence Chimp11562025_2 not found in nucleic sequence Chimp11562025\n",
      "Error: Guide protein sequence Chimp3146215_2 not found in nucleic sequence Chimp3146215\n",
      "Error: Guide protein sequence Chimp8175258_2 not found in nucleic sequence Chimp8175258\n",
      "Error: Guide protein sequence Bonobo2919026_2 not found in nucleic sequence Bonobo2919026\n",
      "Error: Guide protein sequence Bonobo4229344_2 not found in nucleic sequence Bonobo4229344\n",
      "Error: Guide protein sequence Bonobo6282208_2 not found in nucleic sequence Bonobo6282208\n"
     ]
    }
   ],
   "source": [
    "%%bash\n",
    "cd /Volumes/AHN/captive_ape_microbiome\n",
    "mkdir -pv results/moeller_sup\n",
    "cutadapt  -g CGGAGGTAARTTCGAYAAAGG  --overlap 21 -e .15 --discard-untrimmed  -o  results/moeller_sup/Bacteroidaceae.fna  data/moeller_sup/Bacteroidaceae.fna\n",
    "\n",
    "transeq -frame 2 -sequence results/moeller_sup/Bacteroidaceae.fna  -outseq results/moeller_sup/Bacteroidaceae.faa\n",
    "\n",
    "cp results/gyrb_bt_gtdbtk_ref/alignment/gtdbtk_gyrb_Bt.faa results/moeller_sup/gtdbtk_gyrb_Bt.faa\n",
    "cp results/gyrb_bt_gtdbtk_ref/alignment/gtdbtk_gyrb_Bt.fasta results/moeller_sup/gtdbtk_gyrb_Bt.fasta\n",
    "\n",
    "cat results/moeller_sup/gtdbtk_gyrb_Bt.faa results/moeller_sup/Bacteroidaceae.faa > results/moeller_sup/Bacteroidaceae_ref.faa\n",
    "cat results/moeller_sup/gtdbtk_gyrb_Bt.fasta results/moeller_sup/Bacteroidaceae.fna > results/moeller_sup/Bacteroidaceae_ref.fna\n",
    "\n",
    "mafft --auto --quiet results/moeller_sup/Bacteroidaceae_ref.faa > results/moeller_sup/Bacteroidaceae_ref.faa.aln\n",
    "tranalign -asequence  results/moeller_sup/Bacteroidaceae_ref.fna -bsequence results/moeller_sup/Bacteroidaceae_ref.faa.aln -outseq results/moeller_sup/Bacteroidaceae_ref.fna.aln\n"
   ]
  },
  {
   "cell_type": "code",
   "execution_count": null,
   "metadata": {},
   "outputs": [],
   "source": [
    "\n",
    "cp results/moeller_sup/Bacteroidaceae_codiv.fna results/gyrb_all/Bt/moeller_sup/\n",
    "cd results/gyrb_all/Bt\n",
    "\n",
    "#make blastdb\n",
    "makeblastdb -in moeller_sup/Bacteroidaceae_codiv.fna -dbtype nucl\n",
    "\n",
    "#blast moeller co-div seqs\n",
    "blastn -query ASVs_filtered.fasta -db moeller_sup/Bacteroidaceae_codiv.fna \\\n",
    "-outfmt \"7 qseqid salltitles sseqid pident length qlen evalue\" \\\n",
    "-out moeller_sup/ASVs_filtered_blastout.txt \\\n",
    "-max_target_seqs 5"
   ]
  }
 ],
 "metadata": {
  "kernelspec": {
   "display_name": "Python [conda env:ete]",
   "language": "python",
   "name": "conda-env-ete-py"
  },
  "language_info": {
   "codemirror_mode": {
    "name": "ipython",
    "version": 3
   },
   "file_extension": ".py",
   "mimetype": "text/x-python",
   "name": "python",
   "nbconvert_exporter": "python",
   "pygments_lexer": "ipython3",
   "version": "3.6.10"
  }
 },
 "nbformat": 4,
 "nbformat_minor": 4
}
