{
 "cells": [
  {
   "cell_type": "code",
   "execution_count": 1,
   "metadata": {},
   "outputs": [],
   "source": [
    "import os\n",
    "import pandas as pd\n",
    "\n",
    "os.getcwd()\n",
    "os.chdir('/Volumes/AHN/captive_ape_microbiome')"
   ]
  },
  {
   "cell_type": "code",
   "execution_count": 4,
   "metadata": {},
   "outputs": [
    {
     "name": "stdout",
     "output_type": "stream",
     "text": [
      " f__Bacteroidaceae g__Prevotella\n"
     ]
    }
   ],
   "source": [
    "metadata = pd.read_csv('metadata/metadata_Bt_samples_gyrb.txt',sep='\\t',index_col=None)\n",
    "tax_table = pd.read_csv('results/gyrb_all/Bt/assigned_taxonomy/ASVs_filtered_taxonomy.txt',sep='\\t',index_col=0)\n",
    "asv_table = pd.read_csv('results/gyrb_all/Bt/ASVs_all_counts.tsv',sep='\\t',index_col=0)\n",
    "fasta = 'results/gyrb_all/Bt/phylogeny/ASVs_filtered_ref_fulllength.fasta.aln'\n",
    "\n",
    "def get_sample_description(sample_name):\n",
    "    description = metadata[metadata.index==sample_name]['Description'].to_string(index=False).replace(' ','')\n",
    "    return(description)\n",
    "\n",
    "def get_ASV_taxonomy(ASV):\n",
    "    genus = tax_table[tax_table.index==ASV][['Genus']].to_string(index=False,header=False)\n",
    "    family = tax_table[tax_table.index==ASV][['Family']].to_string(index=False,header=False)\n",
    "    \n",
    "    return(family+genus)\n",
    "print(get_ASV_taxonomy(\"ASV_1\"))\n",
    "\n",
    "ASV_sampleName_dict = {}  \n",
    "ASV_sampleType_dict = {} \n",
    "ASV_taxonomy_dict = {}\n",
    "\n",
    "for index,row in asv_table.iterrows():\n",
    "    sampleNames = list(asv_table.columns[row>0])\n",
    "    ASV_sampleName_dict[index] = sampleNames\n",
    "    sampleDescriptions = list(set([get_sample_description(x) for x in sampleNames]))\n",
    "    ASV_sampleType_dict[index] = sampleDescriptions\n",
    "    ASV_taxonomy_dict[index] = get_ASV_taxonomy(index)\n",
    "\n",
    "#for ASV in ASV_sampleType_dict:\n",
    " #   if len(ASV_sampleType_dict[ASV]) != 1:\n",
    " #       print(ASV,ASV_sampleType_dict[ASV])"
   ]
  },
  {
   "cell_type": "code",
   "execution_count": 5,
   "metadata": {},
   "outputs": [],
   "source": [
    "from ete3 import Tree\n",
    "tree_file = \"results/gyrb_all/Bt/phylogeny/ASVs_filtered_ref.fasta.aln.tree\"\n",
    "tree = Tree(tree_file)"
   ]
  },
  {
   "cell_type": "code",
   "execution_count": 6,
   "metadata": {},
   "outputs": [],
   "source": [
    "neutral_sampleTypes = ['captive_gorilla','captive_bonobo','captive_chimp','captive_orangutan']\n",
    "#groups not considered \n",
    "\n",
    "def search_clades(node, samples_cutoff, BS_support):\n",
    "    \"\"\"Finds nodes with at least 50% BS support containing ASVs only found in a single wild ape species\n",
    "    ie wild_gorilla, wild_chimp or wild_bonobo\"\"\"\n",
    "    matches = []\n",
    "    counter = 1\n",
    "    for n in node.traverse():\n",
    "        if n.support > float(BS_support): #makes sure Bootstrap support is over threshold\n",
    "            ASVs = [leaf.name for leaf in n.iter_leaves() if 'ASV' in leaf.name]\n",
    "            ASVsNum = len(ASVs)\n",
    "            sampleTypes = []\n",
    "            for ASV in ASVs:\n",
    "                sampleTypes = sampleTypes + ASV_sampleType_dict[ASV]\n",
    "            sampleTypes = list(set(sampleTypes))\n",
    "            select_sampleTypes = [x for x in sampleTypes if x not in neutral_sampleTypes]\n",
    "            if len(select_sampleTypes) == 1: #identifies host-restricted clades\n",
    "                #length zero means clade only has neutral sample types\n",
    "                #lengh greater than 1 means two or more sample types\n",
    "                #now filter them\n",
    "                HR_clade = select_sampleTypes[0]\n",
    "                \n",
    "                if HR_clade == 'wild_chimp' or HR_clade == 'wild_gorilla' or HR_clade == 'wild_bonobo':\n",
    "                    #now determine how many samples have an ASV belonging to this clade\n",
    "                    sampleNames = []\n",
    "                    #iterates through ASVs in a clade and generates list of unique sample names\n",
    "                    for ASV in ASVs: \n",
    "                        sampleNames = sampleNames + ASV_sampleName_dict[ASV]  \n",
    "                    sampleNames = list(set(sampleNames))\n",
    "                    #iterates through sample names, counts only wild ape samples into the sample number total,\n",
    "                    #so captive apes not includes in the total sample number\n",
    "                    sampleNum = len([x for x in sampleNames if 'wd.' in x])\n",
    "                    if sampleNum > samples_cutoff:\n",
    "                        cladeTax = []\n",
    "                        for ASV in ASVs:\n",
    "                            cladeTax.append(ASV_taxonomy_dict[ASV])\n",
    "                        cladeTax = list(set(cladeTax))\n",
    "                        cladeName = 'clade_'+str(counter) #there may be a better way to name the clades\n",
    "                        counter += 1\n",
    "                        #print(cladeName)\n",
    "                        #print(ASVs)\n",
    "                        #print(ASVsNum)\n",
    "                        #print(sampleTypes)\n",
    "                        #print(sampleNum)\n",
    "                        #print(sampleNames)\n",
    "                        match = [cladeName,\n",
    "                                 sampleNum,\n",
    "                                 sampleNames,\n",
    "                                 sampleTypes,\n",
    "                                 ASVsNum,\n",
    "                                 ASVs,\n",
    "                                 cladeTax\n",
    "                                ]\n",
    "                        matches.append(match)\n",
    "                            \n",
    "                        \n",
    "    return matches\n",
    "\n",
    "\n",
    "# returns nodes containing 6 leaves\n",
    "res = search_clades(tree, samples_cutoff=5,BS_support=.5)\n"
   ]
  },
  {
   "cell_type": "code",
   "execution_count": 7,
   "metadata": {},
   "outputs": [
    {
     "data": {
      "text/html": [
       "<div>\n",
       "<style scoped>\n",
       "    .dataframe tbody tr th:only-of-type {\n",
       "        vertical-align: middle;\n",
       "    }\n",
       "\n",
       "    .dataframe tbody tr th {\n",
       "        vertical-align: top;\n",
       "    }\n",
       "\n",
       "    .dataframe thead th {\n",
       "        text-align: right;\n",
       "    }\n",
       "</style>\n",
       "<table border=\"1\" class=\"dataframe\">\n",
       "  <thead>\n",
       "    <tr style=\"text-align: right;\">\n",
       "      <th></th>\n",
       "      <th>cladeName</th>\n",
       "      <th>sampleNum</th>\n",
       "      <th>sampleNames</th>\n",
       "      <th>sampleTypes</th>\n",
       "      <th>ASVsNum</th>\n",
       "      <th>ASVs</th>\n",
       "      <th>cladeTax</th>\n",
       "    </tr>\n",
       "  </thead>\n",
       "  <tbody>\n",
       "    <tr>\n",
       "      <th>132</th>\n",
       "      <td>clade_133</td>\n",
       "      <td>21</td>\n",
       "      <td>[wd.bon.KR.MMBB046.Bt, wd.bon.LK.KSG0668.Bt, w...</td>\n",
       "      <td>[wild_bonobo]</td>\n",
       "      <td>90</td>\n",
       "      <td>[ASV_305, ASV_123, ASV_1381, ASV_567, ASV_521,...</td>\n",
       "      <td>[ f__Bacteroidaceae g__Prevotella,  f__Bactero...</td>\n",
       "    </tr>\n",
       "    <tr>\n",
       "      <th>213</th>\n",
       "      <td>clade_214</td>\n",
       "      <td>22</td>\n",
       "      <td>[wd.bon.LK.KSG0668.Bt, wd.bon.KR.MMBB046.Bt, w...</td>\n",
       "      <td>[wild_bonobo]</td>\n",
       "      <td>71</td>\n",
       "      <td>[ASV_124, ASV_1277, ASV_1380, ASV_859, ASV_240...</td>\n",
       "      <td>[ f__Tannerellaceae g__Parabacteroides,  f__Ta...</td>\n",
       "    </tr>\n",
       "    <tr>\n",
       "      <th>178</th>\n",
       "      <td>clade_179</td>\n",
       "      <td>16</td>\n",
       "      <td>[wd.gor.CP.CR3443.Bt, wd.gor.CP.CR3455.Bt, wd....</td>\n",
       "      <td>[wild_gorilla]</td>\n",
       "      <td>57</td>\n",
       "      <td>[ASV_289, ASV_735, ASV_63, ASV_1772, ASV_2503,...</td>\n",
       "      <td>[ f__F082 Unassigned,  f__Paludibacteraceae Un...</td>\n",
       "    </tr>\n",
       "    <tr>\n",
       "      <th>67</th>\n",
       "      <td>clade_68</td>\n",
       "      <td>18</td>\n",
       "      <td>[wd.bon.LK.KSG0668.Bt, wd.bon.KR.MMBB046.Bt, w...</td>\n",
       "      <td>[wild_bonobo]</td>\n",
       "      <td>33</td>\n",
       "      <td>[ASV_695, ASV_1834, ASV_1346, ASV_1648, ASV_16...</td>\n",
       "      <td>[ f__Bacteroidaceae g__Prevotella]</td>\n",
       "    </tr>\n",
       "    <tr>\n",
       "      <th>52</th>\n",
       "      <td>clade_53</td>\n",
       "      <td>19</td>\n",
       "      <td>[wd.gor.CP.CR3443.Bt, wd.gor.CP.CR5781.Bt, wd....</td>\n",
       "      <td>[wild_gorilla]</td>\n",
       "      <td>25</td>\n",
       "      <td>[ASV_1489, ASV_1620, ASV_1688, ASV_161, ASV_10...</td>\n",
       "      <td>[ f__Bacteroidaceae g__UBA4334,  f__Bacteroida...</td>\n",
       "    </tr>\n",
       "  </tbody>\n",
       "</table>\n",
       "</div>"
      ],
      "text/plain": [
       "     cladeName  sampleNum                                        sampleNames  \\\n",
       "132  clade_133         21  [wd.bon.KR.MMBB046.Bt, wd.bon.LK.KSG0668.Bt, w...   \n",
       "213  clade_214         22  [wd.bon.LK.KSG0668.Bt, wd.bon.KR.MMBB046.Bt, w...   \n",
       "178  clade_179         16  [wd.gor.CP.CR3443.Bt, wd.gor.CP.CR3455.Bt, wd....   \n",
       "67    clade_68         18  [wd.bon.LK.KSG0668.Bt, wd.bon.KR.MMBB046.Bt, w...   \n",
       "52    clade_53         19  [wd.gor.CP.CR3443.Bt, wd.gor.CP.CR5781.Bt, wd....   \n",
       "\n",
       "        sampleTypes  ASVsNum  \\\n",
       "132   [wild_bonobo]       90   \n",
       "213   [wild_bonobo]       71   \n",
       "178  [wild_gorilla]       57   \n",
       "67    [wild_bonobo]       33   \n",
       "52   [wild_gorilla]       25   \n",
       "\n",
       "                                                  ASVs  \\\n",
       "132  [ASV_305, ASV_123, ASV_1381, ASV_567, ASV_521,...   \n",
       "213  [ASV_124, ASV_1277, ASV_1380, ASV_859, ASV_240...   \n",
       "178  [ASV_289, ASV_735, ASV_63, ASV_1772, ASV_2503,...   \n",
       "67   [ASV_695, ASV_1834, ASV_1346, ASV_1648, ASV_16...   \n",
       "52   [ASV_1489, ASV_1620, ASV_1688, ASV_161, ASV_10...   \n",
       "\n",
       "                                              cladeTax  \n",
       "132  [ f__Bacteroidaceae g__Prevotella,  f__Bactero...  \n",
       "213  [ f__Tannerellaceae g__Parabacteroides,  f__Ta...  \n",
       "178  [ f__F082 Unassigned,  f__Paludibacteraceae Un...  \n",
       "67                  [ f__Bacteroidaceae g__Prevotella]  \n",
       "52   [ f__Bacteroidaceae g__UBA4334,  f__Bacteroida...  "
      ]
     },
     "execution_count": 7,
     "metadata": {},
     "output_type": "execute_result"
    }
   ],
   "source": [
    "df = pd.DataFrame(res, columns = ['cladeName',\n",
    "                                 'sampleNum',\n",
    "                                 'sampleNames',\n",
    "                                 'sampleTypes',\n",
    "                                 'ASVsNum',\n",
    "                                 'ASVs',\n",
    "                                 'cladeTax'\n",
    "                                ])  \n",
    "df = df.sort_values('ASVsNum',ascending=False)\n",
    "\n",
    "nonRedundantclades = []\n",
    "names = []\n",
    "for index, row in df.iterrows():\n",
    "    firstASV = row['ASVs'][0]\n",
    "    unique = 'Y'\n",
    "    for clade in nonRedundantclades:\n",
    "        if firstASV in clade:\n",
    "            unique = 'N'\n",
    "    if unique == 'Y':\n",
    "        nonRedundantclades.append(row['ASVs'])    \n",
    "        names.append(row['cladeName'])   \n",
    "    #print(row['cladeName'],unique)\n",
    "df = df[df['cladeName'].isin(names)]\n",
    "\n",
    "\n",
    "os.system('mkdir results/gyrb_all/Bt/HR_clades')\n",
    "df.to_csv('results/gyrb_all/Bt/HR_clades/wild_ape_HR_clades.txt',sep='\\t')\n",
    "df.head()"
   ]
  },
  {
   "cell_type": "code",
   "execution_count": 9,
   "metadata": {},
   "outputs": [
    {
     "name": "stdout",
     "output_type": "stream",
     "text": [
      "619\n"
     ]
    }
   ],
   "source": [
    "HR_ASVs = 0\n",
    "for clade in df['ASVs']:\n",
    "    HR_ASVs += len(clade)\n",
    "print(HR_ASVs)"
   ]
  },
  {
   "cell_type": "code",
   "execution_count": 11,
   "metadata": {},
   "outputs": [
    {
     "data": {
      "text/plain": [
       "387"
      ]
     },
     "execution_count": 11,
     "metadata": {},
     "output_type": "execute_result"
    }
   ],
   "source": [
    "619-232\n"
   ]
  },
  {
   "cell_type": "code",
   "execution_count": null,
   "metadata": {},
   "outputs": [],
   "source": []
  }
 ],
 "metadata": {
  "kernelspec": {
   "display_name": "Python [conda env:ete]",
   "language": "python",
   "name": "conda-env-ete-py"
  },
  "language_info": {
   "codemirror_mode": {
    "name": "ipython",
    "version": 3
   },
   "file_extension": ".py",
   "mimetype": "text/x-python",
   "name": "python",
   "nbconvert_exporter": "python",
   "pygments_lexer": "ipython3",
   "version": "3.6.10"
  }
 },
 "nbformat": 4,
 "nbformat_minor": 4
}
