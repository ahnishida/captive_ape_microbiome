{
 "cells": [
  {
   "cell_type": "code",
   "execution_count": 3,
   "metadata": {},
   "outputs": [],
   "source": [
    "import os\n",
    "import sys\n",
    "import pandas as pd\n",
    "from Bio import SeqIO\n",
    "from Bio import Seq\n",
    "\n",
    "os.getcwd()\n",
    "os.chdir('/Volumes/AHN/captive_ape_microbiome')\n",
    "\n",
    "def trim_aln_to_amp(original_fasta,trim_fasta,start_pos,end_pos):\n",
    "    with open(original_fasta) as original_fasta:\n",
    "        with open(trim_fasta, 'w') as trim_fasta:\n",
    "            records = SeqIO.parse(original_fasta, 'fasta')\n",
    "            for record in records:\n",
    "                record.seq = record.seq[start_pos:end_pos] #trim at position indicated by cutadapt\n",
    "                SeqIO.write(record, trim_fasta, 'fasta')\n",
    "\n"
   ]
  },
  {
   "cell_type": "code",
   "execution_count": null,
   "metadata": {},
   "outputs": [],
   "source": [
    "original_fasta = sys.argv[1]\n",
    "trim_fasta = sys.argv[2]\n",
    "start_pos = int(sys.argv[3])\n",
    "end_pos = int(sys.argv[4])\n",
    "trim_aln_to_amp(original_fasta,trim_fasta,start_pos,end_pos)"
   ]
  }
 ],
 "metadata": {
  "kernelspec": {
   "display_name": "Python 3",
   "language": "python",
   "name": "python3"
  },
  "language_info": {
   "codemirror_mode": {
    "name": "ipython",
    "version": 3
   },
   "file_extension": ".py",
   "mimetype": "text/x-python",
   "name": "python",
   "nbconvert_exporter": "python",
   "pygments_lexer": "ipython3",
   "version": "3.7.7"
  }
 },
 "nbformat": 4,
 "nbformat_minor": 4
}
