{
 "cells": [
  {
   "cell_type": "markdown",
   "metadata": {},
   "source": [
    "The purpose of this code is to search GTDB-Tk reference genome for gyrase B sequences to be able to assign species-level taxonomy to gyraseB amplicon data. Genomes are annotated using Prodigal, then gyraseB sequences are filtered out using a HMM profile of gyrase B from the TIGR01059 profile in the individual hmms folder. Then nucleotide and protein sequences are output to fastas. These fastas will be used as reference databases for local blast searches used to assign taxonomy. \n",
    "\n",
    "Inputs: genome fastas, TIGR01059 gyrb HMM profile\n",
    "\n",
    "Outputs: blast database of full length gyrb seq used to assign taxonomy and\n",
    "additional fastas of just Bacteroidales seqs or Bacteroidales seqs plus outgroups "
   ]
  },
  {
   "cell_type": "code",
   "execution_count": 5,
   "metadata": {},
   "outputs": [
    {
     "data": {
      "text/plain": [
       "0"
      ]
     },
     "execution_count": 5,
     "metadata": {},
     "output_type": "execute_result"
    }
   ],
   "source": [
    "import os\n",
    "import pandas as pd\n",
    "from Bio import SeqIO\n",
    "from Bio import Seq\n",
    "\n",
    "os.getcwd()\n",
    "os.chdir('/Volumes/AHN/captive_ape_microbiome')\n",
    "\n",
    "\n",
    "#define input/output folders\n",
    "indir =  'data/gyrb/ref_gyrb_gtdbtk/GTDBTK_db'\n",
    "outdir = 'results/gyrb/processing/ref_gyrb_gtdbtk'\n",
    "\n",
    "os.system('mkdir -pv '+outdir+'/hmm_out')\n",
    "os.system('mkdir -pv '+outdir+'/prodigal')\n",
    "os.system('mkdir -pv '+outdir+'/gyrb_seqs')\n",
    "os.system('mkdir -pv '+outdir+'/blastdb')\n",
    "os.system('mkdir -pv '+outdir+'/gyrb_fastas')"
   ]
  },
  {
   "cell_type": "code",
   "execution_count": 32,
   "metadata": {},
   "outputs": [],
   "source": [
    "#Read in taxonomy file\n",
    "tax = pd.read_csv(f'{indir}/taxonomy/gtdb_taxonomy.tsv',sep='\\t',header=None) \n",
    "tax.columns = [\"gtdbtk_genome\", \"taxonomy\"]\n",
    "tax['ncbi_genome'] = tax['gtdbtk_genome'].str.split('_',n=1,expand=True).loc[:,1]\n",
    "gtdbtk_to_ncbi = tax.set_index('gtdbtk_genome')['ncbi_genome'].to_dict()\n",
    "ncbi_to_tax = tax.set_index('ncbi_genome')['taxonomy'].to_dict()\n",
    "tax[['Domain','Phylum','Class','Order','Family','Genus','Species']] = tax.taxonomy.apply( \n",
    "   lambda x: pd.Series(str(x).split(\";\"))) \n"
   ]
  },
  {
   "cell_type": "code",
   "execution_count": 52,
   "metadata": {},
   "outputs": [
    {
     "name": "stdout",
     "output_type": "stream",
     "text": [
      "1029 Bacteroidales genomes in GTDBTK database\n",
      "924 Other bacterial orders in GTDBTK database\n",
      "1953 Total genomes in GTDBTK database added to assign taxonomy\n"
     ]
    }
   ],
   "source": [
    "#Select only Bacteroidales genomes\n",
    "Bt = tax[tax['taxonomy'].str.contains('Bacteroidales')]\n",
    "print(len(Bt),'Bacteroidales genomes in GTDBTK database')\n",
    "\n",
    "#Select representatives, one from each other Order\n",
    "not_Bt = tax[~tax['taxonomy'].str.contains('Bacteroidales')]\n",
    "not_Bt_reps = not_Bt.groupby('Order').head(1)\n",
    "print(len(not_Bt_reps),'Other bacterial orders in GTDBTK database')\n",
    "\n",
    "#write out taxonomy file\n",
    "Bt_plusreps = pd.concat([Bt, not_Bt_reps])\n",
    "Bt_plusreps.to_csv(outdir+'/Bt_plusreps.txt',index=False,sep='\\t')\n",
    "print(len(Bt_plusreps),'Total genomes in GTDBTK database added to assign taxonomy')"
   ]
  },
  {
   "cell_type": "markdown",
   "metadata": {},
   "source": [
    "### Annotate GTDB-Tk Bacteroidales and other taxonomic representative genomes"
   ]
  },
  {
   "cell_type": "code",
   "execution_count": 45,
   "metadata": {},
   "outputs": [],
   "source": [
    "def prodigal(genome):\n",
    "    #Annotate genomes using prodigal and identifies gyrb gene using a gtdbtk hmmprofile \n",
    "    os.system(f'gunzip {indir}/fastani/database/{genome}_genomic.fna.gz')\n",
    "    os.system(f'prodigal -i {indir}/fastani/database/{genome}_genomic.fna -d {outdir}/prodigal/{genome}_genomic.fna -a {outdir}/prodigal/{genome}_genomic.faa')\n",
    "    os.system(f'hmmsearch --tblout {outdir}/hmm_out/{genome}.txt {indir}/markers/tigrfam/individual_hmms/TIGR01059.HMM {outdir}/prodigal/{genome}_genomic.faa')\n",
    "    os.system(f'gzip {indir}/fastani/database/{genome}_genomic.fna')   \n",
    "    \n",
    "prodigal('GCF_002849695.1')"
   ]
  },
  {
   "cell_type": "code",
   "execution_count": 49,
   "metadata": {},
   "outputs": [
    {
     "name": "stdout",
     "output_type": "stream",
     "text": [
      "1945 genomes\n",
      "1945 genomes already annotated\n",
      "0 genomes to annotate\n",
      "set()\n"
     ]
    }
   ],
   "source": [
    "#list genomes with fastas\n",
    "genome_files = [f.split('_genomic.fna.gz')[0] for f in os.listdir(f'{indir}/fastani/database/')]\n",
    "\n",
    "#select only those genomes in Bt_plusreps\n",
    "Bt_plusreps = Bt_plusreps[Bt_plusreps['ncbi_genome'].isin(genome_files)]\n",
    "print(len(Bt_plusreps),'genomes') #there are several reps listed in metadata without genomes in the GTDBTK folder\n",
    "\n",
    "#how many have already been annotated\n",
    "annotated_genomes = [f.split('_genomic')[0] for f in os.listdir(f'{outdir}/prodigal') if f.endswith('.faa')]\n",
    "# test run\n",
    "#annotated_genomes = annotated_genomes[:-5]\n",
    "print(len(annotated_genomes),'genomes already annotated')\n",
    "\n",
    "genomes_to_do = set(Bt_plusreps['ncbi_genome'])-set(annotated_genomes) \n",
    "print(len(genomes_to_do),'genomes to annotate') "
   ]
  },
  {
   "cell_type": "code",
   "execution_count": 7,
   "metadata": {},
   "outputs": [],
   "source": [
    "#Annotate genomes that haven't been annotated\n",
    "for genome in genomes_to_do:\n",
    "    prodigal(genome,outdir)             "
   ]
  },
  {
   "cell_type": "markdown",
   "metadata": {},
   "source": [
    "### Identify best gyrb hit and output fasta"
   ]
  },
  {
   "cell_type": "code",
   "execution_count": 8,
   "metadata": {},
   "outputs": [
    {
     "name": "stdout",
     "output_type": "stream",
     "text": [
      "0    NZ_CP018937.1_3992\n",
      "1              3.5e-287\n",
      "dtype: object\n",
      "1859 gyrB seqs found\n",
      "1621 gyrB seqs passing eval threshold\n",
      "summary of gyrb hits\n",
      "passing_hit    1561\n",
      "ambig_char       50\n",
      "partial_len      10\n",
      "Name: records, dtype: int64\n",
      "summary of Bt gyrb hits\n",
      "passing_hit    890\n",
      "ambig_char       7\n",
      "partial_len      3\n",
      "Name: records, dtype: int64\n"
     ]
    }
   ],
   "source": [
    "def get_besthit(genome):\n",
    "    #parse hmmsearch result to return sequence header and evalue\n",
    "    try:\n",
    "        df = pd.read_csv(f'{outdir}/hmm_out/{genome}.txt',delim_whitespace=True,header=None,comment='#')\n",
    "        besthit = df.iloc[0]\n",
    "        name=besthit[0]\n",
    "        evalue=besthit[4]\n",
    "        return(pd.Series([name,evalue]))\n",
    "    except:\n",
    "        return(pd.Series(['no_hit','NA']))\n",
    "#test \n",
    "print(get_besthit('GCF_002849695.1'))\n",
    "   \n",
    "def write_fasta(genome,besthit):\n",
    "    record_dict = SeqIO.to_dict(SeqIO.parse(f\"{outdir}/prodigal/{genome}_genomic.fna\", \"fasta\"))\n",
    "    besthit_record = record_dict[besthit]\n",
    "    besthit_record.id = genome\n",
    "    besthit_record.description=ncbi_to_tax[genome]\n",
    "    if len(besthit_record.seq) < 1800:\n",
    "        return('partial_len')\n",
    "    elif 'N' in str(besthit_record.seq): #ensures gene is fulllength\n",
    "        return('ambig_char')\n",
    "    else:\n",
    "        SeqIO.write(besthit_record, f\"{outdir}/gyrb_seqs/{genome}.fasta\", \"fasta\")\n",
    "        return('passing_hit')\n",
    "#test\n",
    "write_fasta('GCF_002849695.1','NZ_CP018937.1_3992')  \n",
    "\n",
    "Bt_plusreps[['best_hit','evalue']] = Bt_plusreps['ncbi_genome'].apply(get_besthit)\n",
    "#filter out seqs with no hit\n",
    "Bt_plusreps_hits = Bt_plusreps[Bt_plusreps['best_hit']!='no_hit']\n",
    "print(len(Bt_plusreps_hits),'gyrB seqs found')\n",
    "Bt_plusreps_hits = Bt_plusreps_hits[Bt_plusreps_hits['evalue'].astype(float)<float(1e-250)]\n",
    "print(len(Bt_plusreps_hits),'gyrB seqs passing eval threshold')\n",
    "\n",
    "#remove fastas\n",
    "os.system(f\"rm -r {outdir}/gyrb_seqs/\")\n",
    "os.system(f\"mkdir -pv {outdir}/gyrb_seqs/\")\n",
    "\n",
    "Bt_plusreps_hits['records'] = Bt_plusreps_hits.apply(\n",
    "                                lambda row: write_fasta(row['ncbi_genome'],row['best_hit']),\n",
    "                                axis = 1)\n",
    "print('summary of gyrb hits')\n",
    "print(Bt_plusreps_hits['records'].value_counts())\n",
    "print('summary of Bt gyrb hits')\n",
    "print(Bt_plusreps_hits['records'][Bt_plusreps_hits['Order']=='o__Bacteroidales'].value_counts())\n",
    "\n",
    "Bt_plusreps_hits.to_csv(f'{outdir}/Bt_plusreps_hits.txt',sep='\\t',index=False)"
   ]
  },
  {
   "cell_type": "markdown",
   "metadata": {},
   "source": [
    "### concat gyrb fastas, translate, make blastdbs for assigning taxonomy"
   ]
  },
  {
   "cell_type": "code",
   "execution_count": 3,
   "metadata": {},
   "outputs": [
    {
     "name": "stdout",
     "output_type": "stream",
     "text": [
      "\n",
      "\n",
      "Building a new DB, current time: 06/26/2020 14:44:18\n",
      "New DB name:   /Volumes/AHN/captive_ape_microbiome/results/gyrb/processing/ref_gyrb_gtdbtk/blastdb/gtdbtk_gyrb.fasta\n",
      "New DB title:  blastdb/gtdbtk_gyrb.fasta\n",
      "Sequence type: Nucleotide\n",
      "Deleted existing Nucleotide BLAST database named /Volumes/AHN/captive_ape_microbiome/results/gyrb/processing/ref_gyrb_gtdbtk/blastdb/gtdbtk_gyrb.fasta\n",
      "Keep MBits: T\n",
      "Maximum file size: 1000000000B\n",
      "Adding sequences from FASTA; added 1561 sequences in 0.0744228 seconds.\n",
      "\n",
      "\n",
      "Building a new DB, current time: 06/26/2020 14:44:18\n",
      "New DB name:   /Volumes/AHN/captive_ape_microbiome/results/gyrb/processing/ref_gyrb_gtdbtk/blastdb/gtdbtk_gyrb.faa\n",
      "New DB title:  blastdb/gtdbtk_gyrb.faa\n",
      "Sequence type: Protein\n",
      "Deleted existing Protein BLAST database named /Volumes/AHN/captive_ape_microbiome/results/gyrb/processing/ref_gyrb_gtdbtk/blastdb/gtdbtk_gyrb.faa\n",
      "Keep MBits: T\n",
      "Maximum file size: 1000000000B\n",
      "Adding sequences from FASTA; added 1561 sequences in 0.051151 seconds.\n"
     ]
    },
    {
     "name": "stderr",
     "output_type": "stream",
     "text": [
      "Translate nucleic acid sequences\n"
     ]
    }
   ],
   "source": [
    "%%bash\n",
    "cd results/gyrb/processing/ref_gyrb_gtdbtk\n",
    "\n",
    "#concatenate gyrb seqs to file\n",
    "cat gyrb_seqs/*.fasta > blastdb/gtdbtk_gyrb.fasta\n",
    "\n",
    "#translate, align aa, and uses a guide for nucleotide seqs\n",
    "transeq -sequence blastdb/gtdbtk_gyrb.fasta -outseq  blastdb/gtdbtk_gyrb.faa\n",
    "\n",
    "makeblastdb -in blastdb/gtdbtk_gyrb.fasta -dbtype nucl\n",
    "makeblastdb -in blastdb/gtdbtk_gyrb.faa -dbtype prot"
   ]
  },
  {
   "cell_type": "markdown",
   "metadata": {},
   "source": [
    "### generate additional Bacteroidales-only fastas "
   ]
  },
  {
   "cell_type": "code",
   "execution_count": 11,
   "metadata": {},
   "outputs": [
    {
     "name": "stdout",
     "output_type": "stream",
     "text": [
      "GCA_001780825.1p__Gemmatimonadotao__GWA2-58-10f__GWA2-58-10s__GWA2-58-10_sp001780825\n",
      "GCA_002348465.1p__Gemmatimonadotao__SG8-23f__UBA6960s__UBA2589_sp002348465\n",
      "GCA_002686955.1p__Gemmatimonadota_Ao__GCA-2686955f__GCA-2686955s__GCA-2686955_sp002686955\n",
      "GCA_002763895.1p__Bacteroidotao__Chlorobialesf__Chloroherpetonaceaes__Thermochlorobacter_sp002763895\n",
      "GCA_003158365.1p__Bacteroidotao__SJA-28f__B-1ARs__FEN-1279_sp003158365\n"
     ]
    },
    {
     "data": {
      "text/plain": [
       "0"
      ]
     },
     "execution_count": 11,
     "metadata": {},
     "output_type": "execute_result"
    }
   ],
   "source": [
    "#select only Bacteroidales seqs and realign\n",
    "\n",
    "with open(f'{outdir}/blastdb/gtdbtk_gyrb.fasta') as original: \n",
    "    with open(f'{outdir}/gyrb_fastas/gtdbtk_gyrb_Bt.fasta', 'w') as Bt_only:\n",
    "        records = SeqIO.parse(original, 'fasta')\n",
    "        for record in records:\n",
    "            if 'o__Bacteroidales' in record.description or 'p__Gemmatimonadota' in record.description or 'c__Chlorobia' in record.description or 'c__Ignavibacteria' in record.description:\n",
    "                description = record.description.split(';')\n",
    "                phylum = description[1]\n",
    "                order = description[3]\n",
    "                family = description[4]\n",
    "                genus_sp = description[6].replace(' ','_')\n",
    "                record.id = record.id + phylum + order + family + genus_sp\n",
    "                record.description = ''\n",
    "                if 'o__Bacteroidales' not in record.id:\n",
    "                    print(record.id)\n",
    "                SeqIO.write(record, Bt_only, 'fasta')\n",
    "\n",
    "os.system(f'transeq -sequence {outdir}/gyrb_fastas/gtdbtk_gyrb_Bt.fasta -outseq {outdir}/gyrb_fastas/gtdbtk_gyrb_Bt.faa')\n",
    "os.system(f'mafft --auto --quiet {outdir}/gyrb_fastas/gtdbtk_gyrb_Bt.faa > {outdir}/gyrb_fastas/gtdbtk_gyrb_Bt.faa.aln')\n",
    "os.system(f'tranalign -asequence  {outdir}/gyrb_fastas/gtdbtk_gyrb_Bt.fasta -bsequence {outdir}/gyrb_fastas/gtdbtk_gyrb_Bt.faa.aln -outseq {outdir}/gyrb_fastas/gtdbtk_gyrb_Bt.fasta.aln')\n"
   ]
  },
  {
   "cell_type": "code",
   "execution_count": 14,
   "metadata": {},
   "outputs": [],
   "source": [
    "#trim to amplicon region\n",
    "def trim_aln_to_amp(original_fasta,trim_fasta,start_pos,length):\n",
    "    with open(original_fasta) as original_fasta:\n",
    "        with open(trim_fasta, 'w') as trim_fasta:\n",
    "            records = SeqIO.parse(original_fasta, 'fasta')\n",
    "            for record in records:\n",
    "                record.seq = record.seq[start_pos:] #trim at position indicated by cutadapt\n",
    "                record.seq = [ch for ch in record.seq if ch != '-']\n",
    "                record.seq = ''.join(record.seq[:length])\n",
    "                record.seq = Seq.Seq(record.seq)\n",
    "                SeqIO.write(record, trim_fasta, 'fasta')\n",
    "\n",
    "#use primer seqs to search aln, and find starting position of trim                \n",
    "#CGGAGGTAARTTCGAYAAAGG\n",
    "#GGKFDKG\n",
    "trim_aln_to_amp(f'{outdir}/gyrb_fastas/gtdbtk_gyrb_Bt.fasta.aln',\n",
    "                f'{outdir}/gyrb_fastas/gtdbtk_gyrb_Bt_amplicon.fasta',\n",
    "                707,\n",
    "                250)\n",
    "trim_aln_to_amp(f'{outdir}/gyrb_fastas/gtdbtk_gyrb_Bt.faa.aln',\n",
    "                f'{outdir}/gyrb_fastas/gtdbtk_gyrb_Bt_amplicon.faa',\n",
    "                236,\n",
    "                83)\n"
   ]
  },
  {
   "cell_type": "code",
   "execution_count": 15,
   "metadata": {},
   "outputs": [
    {
     "name": "stderr",
     "output_type": "stream",
     "text": [
      "FastTree Version 2.1.10 Double precision (No SSE3)\n",
      "Alignment: standard input\n",
      "Nucleotide distances: Jukes-Cantor Joins: balanced Support: SH-like 1000\n",
      "Search: Normal +NNI +SPR (2 rounds range 10) +ML-NNI opt-each=1\n",
      "TopHits: 1.00*sqrtN close=default refresh=0.80\n",
      "ML Model: Generalized Time-Reversible, CAT approximation with 20 rate categories\n",
      "      0.17 seconds: Top hits for    267 of    895 seqs (at seed    100)\n",
      "      0.32 seconds: Top hits for    456 of    895 seqs (at seed    300)\n",
      "      0.50 seconds: Top hits for    650 of    895 seqs (at seed    500)\n",
      "      0.64 seconds: Top hits for    799 of    895 seqs (at seed    700)\n",
      "      0.74 seconds: Checking top hits for      1 of    895 seqs\n",
      "      0.92 seconds: Joined    100 of    892\n",
      "      1.33 seconds: Joined    200 of    892\n",
      "      1.66 seconds: Joined    300 of    892\n",
      "      2.17 seconds: Joined    400 of    892\n",
      "      2.67 seconds: Joined    500 of    892\n",
      "      3.14 seconds: Joined    600 of    892\n",
      "      3.66 seconds: Joined    700 of    892\n",
      "      4.11 seconds: Joined    800 of    892\n",
      "Initial topology in 4.44 seconds\n",
      "Refining topology: 39 rounds ME-NNIs, 2 rounds ME-SPRs, 20 rounds ML-NNIs\n",
      "      4.43 seconds: ME NNI round 1 of 39, 1 of 893 splits\n",
      "      4.56 seconds: ME NNI round 1 of 39, 501 of 893 splits, 78 changes (max delta 0.020)\n",
      "      4.68 seconds: ME NNI round 2 of 39, 101 of 893 splits, 6 changes (max delta 0.020)\n",
      "      4.80 seconds: ME NNI round 2 of 39, 601 of 893 splits, 54 changes (max delta 0.023)\n",
      "      4.92 seconds: ME NNI round 3 of 39, 201 of 893 splits, 18 changes (max delta 0.015)\n",
      "      5.04 seconds: ME NNI round 4 of 39, 101 of 893 splits, 5 changes (max delta 0.007)\n",
      "      5.15 seconds: ME NNI round 5 of 39, 201 of 893 splits, 13 changes (max delta 0.010)\n",
      "      5.67 seconds: SPR round   1 of   2, 101 of 1788 nodes\n",
      "      6.05 seconds: SPR round   1 of   2, 201 of 1788 nodes\n",
      "      6.42 seconds: SPR round   1 of   2, 301 of 1788 nodes\n",
      "      6.86 seconds: SPR round   1 of   2, 401 of 1788 nodes\n",
      "      7.26 seconds: SPR round   1 of   2, 501 of 1788 nodes\n",
      "      7.65 seconds: SPR round   1 of   2, 601 of 1788 nodes\n",
      "      8.04 seconds: SPR round   1 of   2, 701 of 1788 nodes\n",
      "      8.33 seconds: SPR round   1 of   2, 801 of 1788 nodes\n",
      "      8.69 seconds: SPR round   1 of   2, 901 of 1788 nodes\n",
      "      9.11 seconds: SPR round   1 of   2, 1001 of 1788 nodes\n",
      "      9.46 seconds: SPR round   1 of   2, 1101 of 1788 nodes\n",
      "      9.82 seconds: SPR round   1 of   2, 1201 of 1788 nodes\n",
      "     10.21 seconds: SPR round   1 of   2, 1301 of 1788 nodes\n",
      "     10.56 seconds: SPR round   1 of   2, 1401 of 1788 nodes\n",
      "     10.92 seconds: SPR round   1 of   2, 1501 of 1788 nodes\n",
      "     11.32 seconds: SPR round   1 of   2, 1601 of 1788 nodes\n",
      "     11.69 seconds: SPR round   1 of   2, 1701 of 1788 nodes\n",
      "     12.06 seconds: ME NNI round 14 of 39, 1 of 893 splits\n",
      "     12.17 seconds: ME NNI round 14 of 39, 501 of 893 splits, 6 changes (max delta 0.019)\n",
      "     12.28 seconds: ME NNI round 15 of 39, 101 of 893 splits, 1 changes (max delta 0.003)\n",
      "     12.39 seconds: ME NNI round 15 of 39, 601 of 893 splits, 11 changes (max delta 0.010)\n",
      "     12.49 seconds: ME NNI round 17 of 39, 1 of 893 splits\n",
      "     12.92 seconds: SPR round   2 of   2, 101 of 1788 nodes\n",
      "     13.25 seconds: SPR round   2 of   2, 201 of 1788 nodes\n",
      "     13.68 seconds: SPR round   2 of   2, 301 of 1788 nodes\n",
      "     14.06 seconds: SPR round   2 of   2, 401 of 1788 nodes\n",
      "     14.41 seconds: SPR round   2 of   2, 501 of 1788 nodes\n",
      "     14.77 seconds: SPR round   2 of   2, 601 of 1788 nodes\n",
      "     15.14 seconds: SPR round   2 of   2, 701 of 1788 nodes\n",
      "     15.48 seconds: SPR round   2 of   2, 801 of 1788 nodes\n",
      "     15.87 seconds: SPR round   2 of   2, 901 of 1788 nodes\n",
      "     16.22 seconds: SPR round   2 of   2, 1001 of 1788 nodes\n",
      "     16.58 seconds: SPR round   2 of   2, 1101 of 1788 nodes\n",
      "     17.02 seconds: SPR round   2 of   2, 1201 of 1788 nodes\n",
      "     17.39 seconds: SPR round   2 of   2, 1301 of 1788 nodes\n",
      "     17.74 seconds: SPR round   2 of   2, 1401 of 1788 nodes\n",
      "     18.09 seconds: SPR round   2 of   2, 1501 of 1788 nodes\n",
      "     18.50 seconds: SPR round   2 of   2, 1601 of 1788 nodes\n",
      "     18.87 seconds: SPR round   2 of   2, 1701 of 1788 nodes\n",
      "     19.24 seconds: ME NNI round 27 of 39, 1 of 893 splits\n",
      "     19.36 seconds: ME NNI round 27 of 39, 501 of 893 splits, 2 changes (max delta 0.001)\n",
      "     19.47 seconds: ME NNI round 28 of 39, 101 of 893 splits, 0 changes\n",
      "     19.58 seconds: ME NNI round 28 of 39, 601 of 893 splits, 0 changes\n",
      "Total branch-length 101.327 after 19.89 sec\n",
      "     19.92 seconds: ML Lengths 1 of 893 splits\n",
      "     20.10 seconds: ML Lengths 101 of 893 splits\n",
      "     20.29 seconds: ML Lengths 201 of 893 splits\n",
      "     20.47 seconds: ML Lengths 301 of 893 splits\n",
      "     20.65 seconds: ML Lengths 401 of 893 splits\n",
      "     20.84 seconds: ML Lengths 501 of 893 splits\n",
      "     21.02 seconds: ML Lengths 601 of 893 splits\n",
      "     21.21 seconds: ML Lengths 701 of 893 splits\n",
      "     21.39 seconds: ML Lengths 801 of 893 splits\n",
      "     21.57 seconds: ML NNI round 1 of 20, 1 of 893 splits\n",
      "     22.14 seconds: ML NNI round 1 of 20, 101 of 893 splits, 9 changes (max delta 28.911)\n",
      "     22.72 seconds: ML NNI round 1 of 20, 201 of 893 splits, 21 changes (max delta 28.911)\n",
      "     23.27 seconds: ML NNI round 1 of 20, 301 of 893 splits, 35 changes (max delta 30.890)\n",
      "     23.85 seconds: ML NNI round 1 of 20, 401 of 893 splits, 52 changes (max delta 30.890)\n",
      "     24.43 seconds: ML NNI round 1 of 20, 501 of 893 splits, 70 changes (max delta 39.265)\n",
      "     25.03 seconds: ML NNI round 1 of 20, 601 of 893 splits, 90 changes (max delta 39.265)\n",
      "     25.62 seconds: ML NNI round 1 of 20, 701 of 893 splits, 100 changes (max delta 39.265)\n",
      "     26.20 seconds: ML NNI round 1 of 20, 801 of 893 splits, 114 changes (max delta 39.265)\n",
      "ML-NNI round 1: LogLk = -979289.875 NNIs 129 max delta 41.55 Time 26.79\n",
      "     26.79 seconds: Optimizing GTR model, step 1 of 12\n",
      "     28.71 seconds: Optimizing GTR model, step 3 of 12\n",
      "     29.95 seconds: Optimizing GTR model, step 4 of 12\n",
      "     31.15 seconds: Optimizing GTR model, step 5 of 12\n",
      "     32.33 seconds: Optimizing GTR model, step 6 of 12\n",
      "     33.68 seconds: Optimizing GTR model, step 7 of 12\n",
      "     34.61 seconds: Optimizing GTR model, step 8 of 12\n",
      "     35.41 seconds: Optimizing GTR model, step 9 of 12\n",
      "     36.22 seconds: Optimizing GTR model, step 10 of 12\n",
      "     37.00 seconds: Optimizing GTR model, step 11 of 12\n",
      "     37.90 seconds: Optimizing GTR model, step 12 of 12\n",
      "GTR Frequencies: 0.2840 0.2398 0.2612 0.2151\n",
      "GTR rates(ac ag at cg ct gt) 1.8472 2.5988 1.7321 1.6996 5.5217 1.0000\n",
      "     38.77 seconds: ML Lengths 1 of 893 splits\n",
      "     38.98 seconds: ML Lengths 101 of 893 splits\n",
      "     39.19 seconds: ML Lengths 201 of 893 splits\n",
      "     39.41 seconds: ML Lengths 301 of 893 splits\n",
      "     39.61 seconds: ML Lengths 401 of 893 splits\n",
      "     39.82 seconds: ML Lengths 501 of 893 splits\n",
      "     40.03 seconds: ML Lengths 601 of 893 splits\n",
      "     40.24 seconds: ML Lengths 701 of 893 splits\n",
      "     40.45 seconds: ML Lengths 801 of 893 splits\n",
      "     40.74 seconds: Site likelihoods with rate category 1 of 20\n",
      "     40.94 seconds: Site likelihoods with rate category 3 of 20\n",
      "     41.13 seconds: Site likelihoods with rate category 5 of 20\n",
      "     41.32 seconds: Site likelihoods with rate category 7 of 20\n",
      "     41.51 seconds: Site likelihoods with rate category 9 of 20\n",
      "     41.69 seconds: Site likelihoods with rate category 11 of 20\n",
      "     41.88 seconds: Site likelihoods with rate category 13 of 20\n",
      "     42.07 seconds: Site likelihoods with rate category 15 of 20\n",
      "     42.25 seconds: Site likelihoods with rate category 17 of 20\n",
      "     42.43 seconds: Site likelihoods with rate category 19 of 20\n",
      "Switched to using 20 rate categories (CAT approximation)\n",
      "Rate categories were divided by 1.127 so that average rate = 1.0\n",
      "CAT-based log-likelihoods may not be comparable across runs\n",
      "Use -gamma for approximate but comparable Gamma(20) log-likelihoods\n",
      "     42.67 seconds: ML NNI round 2 of 20, 1 of 893 splits\n",
      "     43.05 seconds: ML NNI round 2 of 20, 101 of 893 splits, 6 changes (max delta 8.351)\n",
      "     43.43 seconds: ML NNI round 2 of 20, 201 of 893 splits, 14 changes (max delta 20.988)\n",
      "     43.75 seconds: ML NNI round 2 of 20, 301 of 893 splits, 22 changes (max delta 20.988)\n",
      "     44.14 seconds: ML NNI round 2 of 20, 401 of 893 splits, 28 changes (max delta 20.988)\n",
      "     44.65 seconds: ML NNI round 2 of 20, 501 of 893 splits, 40 changes (max delta 34.131)\n",
      "     45.03 seconds: ML NNI round 2 of 20, 601 of 893 splits, 47 changes (max delta 44.965)\n",
      "     45.33 seconds: ML NNI round 2 of 20, 701 of 893 splits, 55 changes (max delta 44.965)\n",
      "     45.81 seconds: ML NNI round 2 of 20, 801 of 893 splits, 69 changes (max delta 44.965)\n",
      "ML-NNI round 2: LogLk = -804106.541 NNIs 72 max delta 44.96 Time 46.14\n",
      "     46.13 seconds: ML NNI round 3 of 20, 1 of 893 splits\n",
      "     46.42 seconds: ML NNI round 3 of 20, 101 of 893 splits, 4 changes (max delta 17.756)\n",
      "     46.83 seconds: ML NNI round 3 of 20, 201 of 893 splits, 8 changes (max delta 17.756)\n",
      "     47.25 seconds: ML NNI round 3 of 20, 301 of 893 splits, 16 changes (max delta 31.891)\n",
      "     47.59 seconds: ML NNI round 3 of 20, 401 of 893 splits, 23 changes (max delta 31.891)\n",
      "     48.02 seconds: ML NNI round 3 of 20, 501 of 893 splits, 28 changes (max delta 56.087)\n",
      "ML-NNI round 3: LogLk = -803609.700 NNIs 33 max delta 56.09 Time 48.29\n",
      "     48.29 seconds: ML NNI round 4 of 20, 1 of 893 splits\n",
      "     48.58 seconds: ML NNI round 4 of 20, 101 of 893 splits, 4 changes (max delta 62.569)\n",
      "     48.97 seconds: ML NNI round 4 of 20, 201 of 893 splits, 10 changes (max delta 62.569)\n",
      "     49.21 seconds: ML NNI round 4 of 20, 301 of 893 splits, 12 changes (max delta 62.569)\n",
      "     49.52 seconds: ML NNI round 4 of 20, 401 of 893 splits, 14 changes (max delta 62.569)\n",
      "ML-NNI round 4: LogLk = -803405.244 NNIs 14 max delta 62.57 Time 49.56\n",
      "     49.99 seconds: ML NNI round 5 of 20, 101 of 893 splits, 8 changes (max delta 28.240)\n",
      "     50.22 seconds: ML NNI round 5 of 20, 201 of 893 splits, 10 changes (max delta 28.240)\n",
      "ML-NNI round 5: LogLk = -803301.496 NNIs 10 max delta 28.24 Time 50.28\n",
      "     50.67 seconds: ML NNI round 6 of 20, 101 of 893 splits, 4 changes (max delta 15.924)\n",
      "ML-NNI round 6: LogLk = -803258.966 NNIs 4 max delta 15.92 Time 50.73\n",
      "ML-NNI round 7: LogLk = -803249.032 NNIs 1 max delta 6.74 Time 50.97\n",
      "     50.97 seconds: ML NNI round 8 of 20, 1 of 893 splits\n",
      "ML-NNI round 8: LogLk = -803228.684 NNIs 1 max delta 15.85 Time 51.08\n",
      "     51.08 seconds: ML NNI round 9 of 20, 1 of 893 splits\n",
      "ML-NNI round 9: LogLk = -803227.869 NNIs 0 max delta 0.00 Time 51.15\n",
      "Turning off heuristics for final round of ML NNIs (converged)\n",
      "     53.11 seconds: ML NNI round 10 of 20, 201 of 893 splits, 8 changes (max delta 7.371)\n",
      "     53.95 seconds: ML NNI round 10 of 20, 301 of 893 splits, 14 changes (max delta 7.371)\n",
      "     54.78 seconds: ML NNI round 10 of 20, 401 of 893 splits, 23 changes (max delta 48.286)\n",
      "     55.60 seconds: ML NNI round 10 of 20, 501 of 893 splits, 25 changes (max delta 48.286)\n",
      "     56.41 seconds: ML NNI round 10 of 20, 601 of 893 splits, 30 changes (max delta 48.286)\n",
      "     57.18 seconds: ML NNI round 10 of 20, 701 of 893 splits, 33 changes (max delta 48.286)\n",
      "     57.98 seconds: ML NNI round 10 of 20, 801 of 893 splits, 44 changes (max delta 48.286)\n",
      "ML-NNI round 10: LogLk = -802204.615 NNIs 49 max delta 48.29 Time 58.74 (final)\n",
      "     58.74 seconds: ML Lengths 1 of 893 splits\n",
      "     58.95 seconds: ML Lengths 101 of 893 splits\n",
      "     59.17 seconds: ML Lengths 201 of 893 splits\n",
      "     59.38 seconds: ML Lengths 301 of 893 splits\n",
      "     59.59 seconds: ML Lengths 401 of 893 splits\n",
      "     59.80 seconds: ML Lengths 501 of 893 splits\n",
      "     60.01 seconds: ML Lengths 601 of 893 splits\n",
      "     60.22 seconds: ML Lengths 701 of 893 splits\n",
      "     60.44 seconds: ML Lengths 801 of 893 splits\n",
      "Optimize all lengths: LogLk = -802184.752 Time 60.66\n",
      "     61.68 seconds: ML split tests for    100 of    892 internal splits\n",
      "     62.66 seconds: ML split tests for    200 of    892 internal splits\n",
      "     63.64 seconds: ML split tests for    300 of    892 internal splits\n",
      "     65.65 seconds: ML split tests for    500 of    892 internal splits\n",
      "     67.71 seconds: ML split tests for    700 of    892 internal splits\n",
      "     68.68 seconds: ML split tests for    800 of    892 internal splits\n",
      "Total time: 69.63 seconds Unique: 895/895 Bad splits: 13/892 Worst delta-LogLk 23.787\n"
     ]
    }
   ],
   "source": [
    "%%bash \n",
    "cd results/gyrb/processing/ref_gyrb_gtdbtk\n",
    "fasttree -gtr -nt < gyrb_fastas/gtdbtk_gyrb_Bt.fasta.aln > gyrb_fastas/gtdbtk_gyrb_Bt.fasta.aln.tre"
   ]
  },
  {
   "cell_type": "code",
   "execution_count": null,
   "metadata": {},
   "outputs": [],
   "source": []
  }
 ],
 "metadata": {
  "kernelspec": {
   "display_name": "Python 3",
   "language": "python",
   "name": "python3"
  },
  "language_info": {
   "codemirror_mode": {
    "name": "ipython",
    "version": 3
   },
   "file_extension": ".py",
   "mimetype": "text/x-python",
   "name": "python",
   "nbconvert_exporter": "python",
   "pygments_lexer": "ipython3",
   "version": "3.7.7"
  }
 },
 "nbformat": 4,
 "nbformat_minor": 2
}
