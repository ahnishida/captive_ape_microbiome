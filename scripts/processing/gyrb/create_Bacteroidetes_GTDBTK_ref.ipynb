{
 "cells": [
  {
   "cell_type": "markdown",
   "metadata": {},
   "source": [
    "This script searches GTDB-Tk reference genome for gyrase B sequences to be able to assign species-level taxonomy to gyraseB amplicon data. Genomes are annotated using Prodigal, then gyraseB sequences are filtered out using a HMM profile of gyrase B from the TIGR01059 profile in the individual hmms folder. Then nucleotide and protein sequences are output to fastas. These fastas will be used as reference databases for IDTaxa. \n",
    "\n",
    "Inputs: genome fastas, TIGR01059 gyrb HMM profile\n",
    "\n",
    "Outputs: blast database of full length gyrb seq used to assign taxonomy and\n",
    "additional fastas of just Bacteroidales seqs or Bacteroidales seqs plus outgroups "
   ]
  },
  {
   "cell_type": "code",
   "execution_count": 3,
   "metadata": {},
   "outputs": [
    {
     "data": {
      "text/plain": [
       "0"
      ]
     },
     "execution_count": 3,
     "metadata": {},
     "output_type": "execute_result"
    }
   ],
   "source": [
    "import os\n",
    "import pandas as pd\n",
    "from Bio import SeqIO\n",
    "from Bio import Seq\n",
    "\n",
    "os.getcwd()\n",
    "os.chdir('/Volumes/AHN/captive_ape_microbiome')\n",
    "\n",
    "#define input/output folders\n",
    "indir =  'data/gyrb/ref_gyrb_gtdbtk/GTDBTK_db'\n",
    "outdir = 'results/gyrb/processing/Bacteroidetes_GTDBTK_ref'\n",
    "\n",
    "os.system('mkdir -pv '+outdir+'/hmm_out')\n",
    "os.system('mkdir -pv '+outdir+'/prodigal')\n",
    "os.system('mkdir -pv '+outdir+'/gyrb_seqs')\n",
    "os.system('mkdir -pv '+outdir+'/gyrb_fastas')"
   ]
  },
  {
   "cell_type": "code",
   "execution_count": 4,
   "metadata": {},
   "outputs": [],
   "source": [
    "#Read in taxonomy file\n",
    "tax = pd.read_csv(f'{indir}/taxonomy/gtdb_taxonomy.tsv',sep='\\t',header=None) \n",
    "tax.columns = [\"gtdbtk_genome\", \"taxonomy\"]\n",
    "tax['ncbi_genome'] = tax['gtdbtk_genome'].str.split('_',n=1,expand=True).loc[:,1]\n",
    "gtdbtk_to_ncbi = tax.set_index('gtdbtk_genome')['ncbi_genome'].to_dict()\n",
    "ncbi_to_tax = tax.set_index('ncbi_genome')['taxonomy'].to_dict()\n",
    "tax[['Domain','Phylum','Class','Order','Family','Genus','Species']] = tax.taxonomy.apply( \n",
    "   lambda x: pd.Series(str(x).split(\";\"))) \n"
   ]
  },
  {
   "cell_type": "code",
   "execution_count": 5,
   "metadata": {},
   "outputs": [
    {
     "name": "stdout",
     "output_type": "stream",
     "text": [
      "2843 Bacteroidetes genomes in GTDBTK database\n",
      "903 Other bacterial orders in GTDBTK database\n",
      "3746 Total genomes in GTDBTK database added to assign taxonomy\n"
     ]
    }
   ],
   "source": [
    "#Select only Bacteroidetes genomes\n",
    "Bt = tax[tax['taxonomy'].str.contains('Bacteroidota')]\n",
    "print(len(Bt),'Bacteroidetes genomes in GTDBTK database')\n",
    "\n",
    "#Select representatives, one from each other Order\n",
    "not_Bt = tax[~tax['taxonomy'].str.contains('Bacteroidota')]\n",
    "not_Bt_reps = not_Bt.groupby('Order').head(1)\n",
    "print(len(not_Bt_reps),'Other bacterial orders in GTDBTK database')\n",
    "\n",
    "#Bacteroidetes and other representative taxa \n",
    "Bt_plusreps = pd.concat([Bt, not_Bt_reps])\n",
    "print(len(Bt_plusreps),'Total genomes in GTDBTK database added to assign taxonomy')"
   ]
  },
  {
   "cell_type": "markdown",
   "metadata": {},
   "source": [
    "### Annotate GTDB-Tk Bacteroidales and other taxonomic representative genomes"
   ]
  },
  {
   "cell_type": "code",
   "execution_count": 5,
   "metadata": {},
   "outputs": [
    {
     "name": "stdout",
     "output_type": "stream",
     "text": [
      "3738 genomes\n",
      "3738 genomes already annotated\n",
      "0 genomes to annotate\n"
     ]
    }
   ],
   "source": [
    "#list genomes with fastas\n",
    "genome_files = [f.split('_genomic.fna.gz')[0] for f in os.listdir(f'{indir}/fastani/database/')]\n",
    "\n",
    "#select only those genomes in Bt_plusreps\n",
    "Bt_plusreps = Bt_plusreps[Bt_plusreps['ncbi_genome'].isin(genome_files)]\n",
    "print(len(Bt_plusreps),'genomes') #there are several reps listed in metadata without genomes in the GTDBTK folder\n",
    "\n",
    "#how many have already been annotated\n",
    "annotated_genomes = [f.split('_genomic')[0] for f in os.listdir(f'{outdir}/prodigal') if f.endswith('.faa')]\n",
    "# test run\n",
    "#annotated_genomes = annotated_genomes[:-5]\n",
    "print(len(annotated_genomes),'genomes already annotated')\n",
    "\n",
    "genomes_to_do = set(Bt_plusreps['ncbi_genome'])-set(annotated_genomes) \n",
    "print(len(genomes_to_do),'genomes to annotate') "
   ]
  },
  {
   "cell_type": "code",
   "execution_count": 6,
   "metadata": {},
   "outputs": [],
   "source": [
    "def prodigal(genome):\n",
    "    #Annotate genomes using prodigal and identifies gyrb gene using a gtdbtk hmmprofile \n",
    "    os.system(f'gunzip {indir}/fastani/database/{genome}_genomic.fna.gz')\n",
    "    os.system(f'prodigal -i {indir}/fastani/database/{genome}_genomic.fna -d {outdir}/prodigal/{genome}_genomic.fna -a {outdir}/prodigal/{genome}_genomic.faa')\n",
    "    os.system(f'hmmsearch --tblout {outdir}/hmm_out/{genome}.txt {indir}/markers/tigrfam/individual_hmms/TIGR01059.HMM {outdir}/prodigal/{genome}_genomic.faa')\n",
    "    os.system(f'gzip {indir}/fastani/database/{genome}_genomic.fna')   "
   ]
  },
  {
   "cell_type": "code",
   "execution_count": 7,
   "metadata": {},
   "outputs": [],
   "source": [
    "#Annotate genomes that haven't been annotated\n",
    "for genome in genomes_to_do:\n",
    "    prodigal(genome)             "
   ]
  },
  {
   "cell_type": "markdown",
   "metadata": {},
   "source": [
    "### Identify best gyrb hit and output fasta"
   ]
  },
  {
   "cell_type": "code",
   "execution_count": 8,
   "metadata": {},
   "outputs": [
    {
     "name": "stdout",
     "output_type": "stream",
     "text": [
      "0    NZ_CP018937.1_3992\n",
      "1              3.5e-287\n",
      "dtype: object\n",
      "3636 gyrB seqs found\n",
      "3277 gyrB seqs passing eval threshold\n",
      "summary of gyrb hits\n",
      "passing_hit    3172\n",
      "ambig_char       91\n",
      "partial_len      14\n",
      "Name: records, dtype: int64\n",
      "summary of Bt gyrb hits\n",
      "passing_hit    891\n",
      "ambig_char       7\n",
      "partial_len      3\n",
      "Name: records, dtype: int64\n"
     ]
    }
   ],
   "source": [
    "def get_besthit(genome):\n",
    "    #parse hmmsearch result to return sequence header and evalue\n",
    "    try:\n",
    "        df = pd.read_csv(f'{outdir}/hmm_out/{genome}.txt',delim_whitespace=True,header=None,comment='#')\n",
    "        besthit = df.iloc[0]\n",
    "        name=besthit[0]\n",
    "        evalue=besthit[4]\n",
    "        return(pd.Series([name,evalue]))\n",
    "    except:\n",
    "        return(pd.Series(['no_hit','NA']))\n",
    "print('test parsing hmmsearch file')\n",
    "print(get_besthit('GCF_002849695.1'))\n",
    "   \n",
    "def write_fasta(genome,besthit):\n",
    "    record_dict = SeqIO.to_dict(SeqIO.parse(f\"{outdir}/prodigal/{genome}_genomic.fna\", \"fasta\"))\n",
    "    besthit_record = record_dict[besthit]\n",
    "    besthit_record.id = genome\n",
    "    tax =ncbi_to_tax[genome]\n",
    "    besthit_record.description = tax\n",
    "    \n",
    "    if len(besthit_record.seq) < 1800: #ensures gene is fulllength\n",
    "        return('partial_len')\n",
    "    elif 'N' in str(besthit_record.seq): \n",
    "        return('ambig_char')\n",
    "    else:\n",
    "        SeqIO.write(besthit_record, f\"{outdir}/gyrb_seqs/{genome}.fasta\", \"fasta\")\n",
    "        return('passing_hit')\n",
    "#test\n",
    "write_fasta('GCF_002849695.1','NZ_CP018937.1_3992')  \n",
    "\n",
    "Bt_plusreps[['best_hit','evalue']] = Bt_plusreps['ncbi_genome'].apply(get_besthit)\n",
    "#filter out seqs with no hit\n",
    "Bt_plusreps_hits = Bt_plusreps[Bt_plusreps['best_hit']!='no_hit']\n",
    "print(len(Bt_plusreps_hits),'gyrB seqs found')\n",
    "Bt_plusreps_hits = Bt_plusreps_hits[Bt_plusreps_hits['evalue'].astype(float)<float(1e-250)]\n",
    "print(len(Bt_plusreps_hits),'gyrB seqs passing eval threshold')\n",
    "\n",
    "#remove fastas\n",
    "os.system(f\"rm -r {outdir}/gyrb_seqs/\")\n",
    "os.system(f\"mkdir -pv {outdir}/gyrb_seqs/\")\n",
    "\n",
    "Bt_plusreps_hits['records'] = Bt_plusreps_hits.apply(\n",
    "                                lambda row: write_fasta(row['ncbi_genome'],row['best_hit']),\n",
    "                                axis = 1)\n",
    "print('summary of gyrb hits')\n",
    "print(Bt_plusreps_hits['records'].value_counts())\n",
    "print('summary of Bt gyrb hits')\n",
    "print(Bt_plusreps_hits['records'][Bt_plusreps_hits['Order']=='o__Bacteroidales'].value_counts())\n",
    "\n",
    "Bt_plusreps_hits.to_csv(f'{outdir}/Bt_plusreps_hits.txt',sep='\\t',index=False)"
   ]
  },
  {
   "cell_type": "markdown",
   "metadata": {},
   "source": [
    "### concat gyrb fastas and translate"
   ]
  },
  {
   "cell_type": "code",
   "execution_count": 15,
   "metadata": {},
   "outputs": [
    {
     "name": "stderr",
     "output_type": "stream",
     "text": [
      "Translate nucleic acid sequences\n"
     ]
    }
   ],
   "source": [
    "%%bash\n",
    "cd results/gyrb/processing/Bacteroidetes_GTDBTK_ref\n",
    "\n",
    "#concatenate gyrb seqs to file\n",
    "cat gyrb_seqs/*.fasta > gyrb_fastas/gtdbtk_gyrb.fasta\n",
    "\n",
    "#translate, align aa, and uses a guide for nucleotide seqs\n",
    "transeq -sequence gyrb_fastas/gtdbtk_gyrb.fasta -outseq  gyrb_fastas/gtdbtk_gyrb.faa"
   ]
  },
  {
   "cell_type": "code",
   "execution_count": 17,
   "metadata": {},
   "outputs": [
    {
     "name": "stdout",
     "output_type": "stream",
     "text": [
      "\n",
      "\n",
      "Building a new DB, current time: 09/30/2020 12:13:58\n",
      "New DB name:   /Volumes/AHN/captive_ape_microbiome/ref_seqs/gtdbtk_gyrb.faa\n",
      "New DB title:  ref_seqs/gtdbtk_gyrb.faa\n",
      "Sequence type: Protein\n",
      "Deleted existing Protein BLAST database named /Volumes/AHN/captive_ape_microbiome/ref_seqs/gtdbtk_gyrb.faa\n",
      "Keep MBits: T\n",
      "Maximum file size: 1000000000B\n",
      "Adding sequences from FASTA; added 3172 sequences in 0.139764 seconds.\n"
     ]
    }
   ],
   "source": [
    "%%bash\n",
    "#cp to ref seq folder \n",
    "cp results/gyrb/processing/Bacteroidetes_GTDBTK_ref/gyrb_fastas/gtdbtk_gyrb.fasta ref_seqs/gtdbtk_gyrb.fasta\n",
    "cp results/gyrb/processing/Bacteroidetes_GTDBTK_ref/gyrb_fastas/gtdbtk_gyrb.faa ref_seqs/gtdbtk_gyrb.faa\n",
    "makeblastdb -in ref_seqs/gtdbtk_gyrb.faa -dbtype prot"
   ]
  },
  {
   "cell_type": "code",
   "execution_count": null,
   "metadata": {},
   "outputs": [],
   "source": []
  }
 ],
 "metadata": {
  "kernelspec": {
   "display_name": "Python 3",
   "language": "python",
   "name": "python3"
  },
  "language_info": {
   "codemirror_mode": {
    "name": "ipython",
    "version": 3
   },
   "file_extension": ".py",
   "mimetype": "text/x-python",
   "name": "python",
   "nbconvert_exporter": "python",
   "pygments_lexer": "ipython3",
   "version": "3.7.7"
  }
 },
 "nbformat": 4,
 "nbformat_minor": 2
}
