{
 "cells": [
  {
   "cell_type": "code",
   "execution_count": 43,
   "metadata": {},
   "outputs": [],
   "source": [
    "import os\n",
    "import sys\n",
    "import subprocess\n",
    "import pandas as pd\n",
    "from ete3 import Tree\n",
    "from collections import Counter"
   ]
  },
  {
   "cell_type": "code",
   "execution_count": 44,
   "metadata": {},
   "outputs": [],
   "source": [
    "ROOT_DIR = '/Volumes/AHN/captive_ape_microbiome/'"
   ]
  },
  {
   "cell_type": "code",
   "execution_count": 45,
   "metadata": {},
   "outputs": [],
   "source": [
    "os.chdir(ROOT_DIR+'scripts/analyses')\n",
    "%run functions.ipynb\n"
   ]
  },
  {
   "cell_type": "code",
   "execution_count": 31,
   "metadata": {},
   "outputs": [],
   "source": [
    "#INDIR = ROOT_DIR+'results/gyrb/inputs/ps_Bacteroidales_asvRefTree'\n",
    "#OUTDIR = ROOT_DIR+'results/gyrb/analyses/ps_Bacteroidales_asvRefTree'\n",
    "INDIR = sys.argv[1] \n",
    "OUTDIR = sys.argv[2] "
   ]
  },
  {
   "cell_type": "code",
   "execution_count": 32,
   "metadata": {},
   "outputs": [],
   "source": [
    "tree_file = f'{INDIR}/physeq_Bacteroidales.tree'\n",
    "full_tree = Tree(tree_file, format=0)"
   ]
  },
  {
   "cell_type": "code",
   "execution_count": 62,
   "metadata": {},
   "outputs": [],
   "source": [
    "#inputs\n",
    "metadata_file = f'{INDIR}/physeq_metadata_passing_samples.txt'\n",
    "tax_table_file = f'{INDIR}/physeq_Bacteroidales_taxonomy.txt'\n",
    "asv_table_file = f'{INDIR}/physeq_Bacteroidales_asv_tab.txt'\n",
    "asv_fasta_file = f'{INDIR}/physeq_Bacteroidales_asv.fasta'\n",
    "moeller_codiv_fasta = f'{INDIR}/moeller_codiv_Bacteroidaceae.fna'\n",
    "#set blast percent identity cutoff \n",
    "pident_cutoff = 95\n",
    "len_cutoff = .80"
   ]
  },
  {
   "cell_type": "code",
   "execution_count": 34,
   "metadata": {},
   "outputs": [
    {
     "data": {
      "text/plain": [
       "g__Prevotella            2787\n",
       "g__Bacteroides            955\n",
       "unclassified              534\n",
       "g__Alistipes              499\n",
       "g__RC9                    403\n",
       "g__Porphyromonas          344\n",
       "g__Bacteroides_A          322\n",
       "g__Parabacteroides        294\n",
       "g__Prevotellamassilia     207\n",
       "g__Bacteroides_B          117\n",
       "Name: Genus, dtype: int64"
      ]
     },
     "execution_count": 34,
     "metadata": {},
     "output_type": "execute_result"
    }
   ],
   "source": [
    "gyrb_asvs = asv_hr_table(asv_table_file,metadata_file,tax_table_file)\n",
    "gyrb_asvs['Genus'].value_counts()[:10]"
   ]
  },
  {
   "cell_type": "code",
   "execution_count": 35,
   "metadata": {},
   "outputs": [],
   "source": [
    "def output_summary_table(asv_hr_table_output):\n",
    "     #create summary table\n",
    "    Bacteroides_genera=['g__Bacteroides','g__Bacteroides_A','g__Bacteroides_B']\n",
    "    all_asvs = pd.Series(asv_hr_table_output['HR_type'].value_counts(),name='ALL')\n",
    "    cp_asvs = pd.Series(asv_hr_table_output[asv_hr_table_output['CP_pres']==True]['HR_type'].value_counts(),name='CP')\n",
    "    Bacteroidales_asvs = pd.Series(asv_hr_table_output[asv_hr_table_output['Order']=='o__Bacteroidales']['HR_type'].value_counts(),name='Bacteroidales')\n",
    "    Prevotella_asvs = pd.Series(asv_hr_table_output[asv_hr_table_output['Genus']=='g__Prevotella']['HR_type'].value_counts(),name='Prevotella')\n",
    "    Bacteroides_asvs = pd.Series(asv_hr_table_output[asv_hr_table_output['Genus'].isin(Bacteroides_genera)]['HR_type'].value_counts(),name='Bacteroides')\n",
    "    Parabacteroides_asvs = pd.Series(asv_hr_table_output[asv_hr_table_output['Genus']=='g__Parabacteroides']['HR_type'].value_counts(),name='Parabacteroides')\n",
    "\n",
    "    res = pd.concat([all_asvs,cp_asvs,Bacteroidales_asvs,\n",
    "                     Prevotella_asvs,Bacteroides_asvs,Parabacteroides_asvs],\n",
    "                     axis=1).fillna(0).T\n",
    "    res['Total'] = res.sum(axis=1)\n",
    "    res['MX_Total'] = res.loc[:,'MX_human_single_wild_ape':'MX_human_2_wild_apes'].sum(axis=1)\n",
    "    return(res)  "
   ]
  },
  {
   "cell_type": "code",
   "execution_count": 36,
   "metadata": {},
   "outputs": [
    {
     "name": "stdout",
     "output_type": "stream",
     "text": [
      "Host restricted ASVs totals\n",
      "ALL                7456.0\n",
      "CP                   31.0\n",
      "Bacteroidales      7456.0\n",
      "Prevotella         2735.0\n",
      "Bacteroides        1351.0\n",
      "Parabacteroides     277.0\n",
      "dtype: float64\n"
     ]
    },
    {
     "data": {
      "text/html": [
       "<div>\n",
       "<style scoped>\n",
       "    .dataframe tbody tr th:only-of-type {\n",
       "        vertical-align: middle;\n",
       "    }\n",
       "\n",
       "    .dataframe tbody tr th {\n",
       "        vertical-align: top;\n",
       "    }\n",
       "\n",
       "    .dataframe thead th {\n",
       "        text-align: right;\n",
       "    }\n",
       "</style>\n",
       "<table border=\"1\" class=\"dataframe\">\n",
       "  <thead>\n",
       "    <tr style=\"text-align: right;\">\n",
       "      <th></th>\n",
       "      <th>HR_human</th>\n",
       "      <th>HR_wild_bonobo</th>\n",
       "      <th>HR_wild_chimp</th>\n",
       "      <th>HR_wild_gorilla</th>\n",
       "      <th>Unique_CP</th>\n",
       "      <th>MX_human_single_wild_ape</th>\n",
       "      <th>MX_2_wild_apes</th>\n",
       "      <th>MX_human_2_wild_apes</th>\n",
       "      <th>Total</th>\n",
       "      <th>MX_Total</th>\n",
       "    </tr>\n",
       "  </thead>\n",
       "  <tbody>\n",
       "    <tr>\n",
       "      <th>ALL</th>\n",
       "      <td>6683.0</td>\n",
       "      <td>378.0</td>\n",
       "      <td>257.0</td>\n",
       "      <td>138.0</td>\n",
       "      <td>96.0</td>\n",
       "      <td>33.0</td>\n",
       "      <td>6.0</td>\n",
       "      <td>5.0</td>\n",
       "      <td>7596.0</td>\n",
       "      <td>44.0</td>\n",
       "    </tr>\n",
       "    <tr>\n",
       "      <th>CP</th>\n",
       "      <td>27.0</td>\n",
       "      <td>0.0</td>\n",
       "      <td>4.0</td>\n",
       "      <td>0.0</td>\n",
       "      <td>96.0</td>\n",
       "      <td>10.0</td>\n",
       "      <td>0.0</td>\n",
       "      <td>2.0</td>\n",
       "      <td>139.0</td>\n",
       "      <td>12.0</td>\n",
       "    </tr>\n",
       "    <tr>\n",
       "      <th>Bacteroidales</th>\n",
       "      <td>6683.0</td>\n",
       "      <td>378.0</td>\n",
       "      <td>257.0</td>\n",
       "      <td>138.0</td>\n",
       "      <td>96.0</td>\n",
       "      <td>33.0</td>\n",
       "      <td>6.0</td>\n",
       "      <td>5.0</td>\n",
       "      <td>7596.0</td>\n",
       "      <td>44.0</td>\n",
       "    </tr>\n",
       "    <tr>\n",
       "      <th>Prevotella</th>\n",
       "      <td>2312.0</td>\n",
       "      <td>228.0</td>\n",
       "      <td>143.0</td>\n",
       "      <td>52.0</td>\n",
       "      <td>50.0</td>\n",
       "      <td>1.0</td>\n",
       "      <td>1.0</td>\n",
       "      <td>0.0</td>\n",
       "      <td>2787.0</td>\n",
       "      <td>2.0</td>\n",
       "    </tr>\n",
       "    <tr>\n",
       "      <th>Bacteroides</th>\n",
       "      <td>1316.0</td>\n",
       "      <td>13.0</td>\n",
       "      <td>22.0</td>\n",
       "      <td>0.0</td>\n",
       "      <td>15.0</td>\n",
       "      <td>23.0</td>\n",
       "      <td>0.0</td>\n",
       "      <td>5.0</td>\n",
       "      <td>1394.0</td>\n",
       "      <td>28.0</td>\n",
       "    </tr>\n",
       "    <tr>\n",
       "      <th>Parabacteroides</th>\n",
       "      <td>260.0</td>\n",
       "      <td>12.0</td>\n",
       "      <td>3.0</td>\n",
       "      <td>2.0</td>\n",
       "      <td>13.0</td>\n",
       "      <td>4.0</td>\n",
       "      <td>0.0</td>\n",
       "      <td>0.0</td>\n",
       "      <td>294.0</td>\n",
       "      <td>4.0</td>\n",
       "    </tr>\n",
       "  </tbody>\n",
       "</table>\n",
       "</div>"
      ],
      "text/plain": [
       "                 HR_human  HR_wild_bonobo  HR_wild_chimp  HR_wild_gorilla  \\\n",
       "ALL                6683.0           378.0          257.0            138.0   \n",
       "CP                   27.0             0.0            4.0              0.0   \n",
       "Bacteroidales      6683.0           378.0          257.0            138.0   \n",
       "Prevotella         2312.0           228.0          143.0             52.0   \n",
       "Bacteroides        1316.0            13.0           22.0              0.0   \n",
       "Parabacteroides     260.0            12.0            3.0              2.0   \n",
       "\n",
       "                 Unique_CP  MX_human_single_wild_ape  MX_2_wild_apes  \\\n",
       "ALL                   96.0                      33.0             6.0   \n",
       "CP                    96.0                      10.0             0.0   \n",
       "Bacteroidales         96.0                      33.0             6.0   \n",
       "Prevotella            50.0                       1.0             1.0   \n",
       "Bacteroides           15.0                      23.0             0.0   \n",
       "Parabacteroides       13.0                       4.0             0.0   \n",
       "\n",
       "                 MX_human_2_wild_apes   Total  MX_Total  \n",
       "ALL                               5.0  7596.0      44.0  \n",
       "CP                                2.0   139.0      12.0  \n",
       "Bacteroidales                     5.0  7596.0      44.0  \n",
       "Prevotella                        0.0  2787.0       2.0  \n",
       "Bacteroides                       5.0  1394.0      28.0  \n",
       "Parabacteroides                   0.0   294.0       4.0  "
      ]
     },
     "execution_count": 36,
     "metadata": {},
     "output_type": "execute_result"
    }
   ],
   "source": [
    "gyrb_asv_summary = output_summary_table(gyrb_asvs)\n",
    "print('Host restricted ASVs totals')\n",
    "print(gyrb_asv_summary.loc[:,'HR_human':'HR_wild_gorilla'].sum(axis=1))\n",
    "gyrb_asv_summary"
   ]
  },
  {
   "cell_type": "code",
   "execution_count": 37,
   "metadata": {},
   "outputs": [
    {
     "name": "stdout",
     "output_type": "stream",
     "text": [
      "western_human        6768\n",
      "non_western_human     511\n",
      "wild_chimp             65\n",
      "wild_gorilla           33\n",
      "captive_chimp          26\n",
      "wild_bonobo            24\n",
      "captive_gorilla        20\n",
      "captive_bonobo         12\n",
      "captive_orangutan      11\n",
      "Name: Description, dtype: int64\n"
     ]
    }
   ],
   "source": [
    "#read tree with ete3\n",
    "clades_df,clades_ASVs_df = host_restricted_clades(asv_table_file,metadata_file,tax_table_file,tree_file) \n"
   ]
  },
  {
   "cell_type": "code",
   "execution_count": 38,
   "metadata": {},
   "outputs": [
    {
     "name": "stdout",
     "output_type": "stream",
     "text": [
      "(358, 23)\n",
      "numbers of clades in various host types\n",
      "HR_human                    262\n",
      "MX_human_single_wild_ape     33\n",
      "HR_wild_chimp                20\n",
      "HR_wild_bonobo               13\n",
      "HR_wild_gorilla               9\n",
      "Unique_CP                     7\n",
      "MX_human_2_wild_apes          7\n",
      "MX_2_wild_apes                6\n",
      "MX_3_wild_apes                1\n",
      "Name: HR_type, dtype: int64\n",
      "(6957, 13)\n",
      "number of ASVs falling into various clades\n",
      "HR_human                    6146\n",
      "HR_wild_bonobo               354\n",
      "HR_wild_chimp                153\n",
      "MX_human_single_wild_ape     110\n",
      "HR_wild_gorilla               95\n",
      "MX_2_wild_apes                42\n",
      "MX_human_2_wild_apes          34\n",
      "MX_3_wild_apes                12\n",
      "Unique_CP                     11\n",
      "Name: HR_type, dtype: int64\n",
      "How many of the clades are present in captive apes?\n",
      "52\n",
      "Are these clades host-restricted, mixed host, or unique to captive?\n",
      "HR           29\n",
      "MX           16\n",
      "Unique_CP     7\n",
      "Name: HR_cat, dtype: int64\n",
      "33 captive clades in 0.15 of captive samples of any species\n",
      "HR_human                    16\n",
      "MX_human_single_wild_ape     8\n",
      "Unique_CP                    7\n",
      "MX_2_wild_apes               1\n",
      "MX_human_2_wild_apes         1\n",
      "Name: HR_type, dtype: int64\n"
     ]
    }
   ],
   "source": [
    "#host-restricted, mixed-host, and unique-to-captive clades\n",
    "print(clades_df.shape)\n",
    "print('numbers of clades in various host types')\n",
    "print(clades_df['HR_type'].value_counts())\n",
    "\n",
    "#Used for Figure3, where tips on tree are ASVs not clades\n",
    "print(clades_ASVs_df.shape)\n",
    "print('number of ASVs falling into various clades')\n",
    "print(clades_ASVs_df['HR_type'].value_counts())\n",
    "\n",
    "#Whats the breakdown of clades present in captive ape samples?\n",
    "print('How many of the clades are present in captive apes?')\n",
    "captive_clades = clades_df[clades_df['CP_pres']==True]\n",
    "print(len(captive_clades))\n",
    "print('Are these clades host-restricted, mixed host, or unique to captive?')\n",
    "print(captive_clades['HR_cat'].value_counts())\n",
    "\n",
    "#Whats the breakdown of clades present in 15% of captive ape samples of any species?\n",
    "threshold=0.15\n",
    "prominent_clades = clades_df.loc[(clades_df.captive_bonobo > threshold) | \n",
    "              (clades_df.captive_chimp > threshold)  |\n",
    "              (clades_df.captive_gorilla > threshold)|\n",
    "              (clades_df.captive_orangutan > threshold)]\n",
    "print(len(prominent_clades),'captive clades in',threshold,'of captive samples of any species')\n",
    "clades_df['CP_prominent'] = clades_df['cladeName'].apply(lambda x: x in list(prominent_clades['cladeName']))\n",
    "clades_df_CP_prominent = clades_df[clades_df['CP_prominent']==True]\n",
    "print(clades_df_CP_prominent['HR_type'].value_counts())"
   ]
  },
  {
   "cell_type": "code",
   "execution_count": 39,
   "metadata": {},
   "outputs": [],
   "source": [
    "threshold = .15\n",
    "clades_df['heatmap_col1'] = clades_df.apply(\n",
    "    lambda row: 'MX' \n",
    "        if 'MX' in row['HR_type'] else row['HR_type'],axis=1)\n",
    "clades_df['heatmap_col2'] = clades_df.apply(\n",
    "    lambda row: row['heatmap_col1'] \n",
    "        if max(row['captive_bonobo':'wild_gorilla'])>.15 else 'Blank',axis=1)\n",
    "clades_df['heatmap_col3'] = clades_df.apply(\n",
    "    lambda row: row['heatmap_col1'] \n",
    "        if max(row['captive_bonobo':'captive_orangutan'])>.15 else 'Blank',axis=1)"
   ]
  },
  {
   "cell_type": "markdown",
   "metadata": {},
   "source": [
    "### Determine ASVs that hit to Moeller co-div clades"
   ]
  },
  {
   "cell_type": "code",
   "execution_count": 60,
   "metadata": {},
   "outputs": [
    {
     "data": {
      "text/plain": [
       "0"
      ]
     },
     "execution_count": 60,
     "metadata": {},
     "output_type": "execute_result"
    }
   ],
   "source": [
    "subprocess.call(f'mkdir {OUTDIR}/codiv_moeller_ASVs', shell=True)\n",
    "subprocess.call([f'cp {INDIR}/moeller_codiv_Bacteroidaceae.fna', \n",
    "                 f'{OUTDIR}/codiv_moeller_ASVs/moeller_codiv_Bacteroidaceae.fna'],shell=True)\n",
    "\n",
    "#make blastdb\n",
    "subprocess.call(f'makeblastdb -in {OUTDIR}/codiv_moeller_ASVs/moeller_codiv_Bacteroidaceae.fna -dbtype nucl',shell=True)\n",
    "\n",
    "#blast moeller co-div seqs\n",
    "os.system(''.join([f'blastn -query {asv_fasta_file} ',\n",
    "                   f' -db {OUTDIR}/codiv_moeller_ASVs/moeller_codiv_Bacteroidaceae.fna ',\n",
    "                    ' -outfmt \"7 qseqid salltitles sseqid pident length qlen evalue\" ',\n",
    "                   f'-out {OUTDIR}/codiv_moeller_ASVs/codiv_blastout_ASVs.txt -max_target_seqs 5']))"
   ]
  },
  {
   "cell_type": "code",
   "execution_count": 63,
   "metadata": {},
   "outputs": [
    {
     "name": "stdout",
     "output_type": "stream",
     "text": [
      "344 ASVs matching co-div clades with greater than 95 percent identity\n",
      "Bt2_clade1_bonobo     93\n",
      "Bt3_clade1_human      87\n",
      "Bt2_clade1_chimp      39\n",
      "Bt2_clade2_bonobo     34\n",
      "Bt1_clade1_bonobo     24\n",
      "Bt3_clade1_chimp      18\n",
      "Bt3_clade1_bonobo     15\n",
      "Bt1_clade1_gorilla    11\n",
      "Bt1_clade1_chimp       8\n",
      "Bt2_clade1_gorilla     8\n",
      "Bt2_clade2_chimp       7\n",
      "Name: codiv_clade, dtype: int64\n"
     ]
    }
   ],
   "source": [
    "#filter blast output to top hit per ASV, remove hits not pass thresholds\n",
    "blast_res = pd.read_csv(f'{OUTDIR}/codiv_moeller_ASVs/codiv_blastout_ASVs.txt',sep='\\t',comment='#',header=None)\n",
    "blast_res.columns = ['ASV','codiv_clade_seq','sseqid','pident','length','qlen','evalue']\n",
    "blast_res = blast_res.groupby('ASV').head(1).reset_index(drop=True) #get top hit\n",
    "blast_res_pass = blast_res[blast_res['pident']>pident_cutoff].reset_index(drop=True) #QC filter\n",
    "blast_res_pass = blast_res_pass[blast_res_pass['length']>(250*len_cutoff)].reset_index(drop=True) #QC filter\n",
    "print(len(blast_res_pass),'ASVs matching co-div clades with greater than',pident_cutoff,'percent identity')\n",
    "blast_res_pass['codiv_clade'] = blast_res_pass['codiv_clade_seq'].apply(lambda x: x.split(' ')[1])\n",
    "blast_res_pass['lineage'] = blast_res_pass['codiv_clade'].apply(lambda x: x.split('_')[0]) \n",
    "blast_res_pass = blast_res_pass[['ASV','codiv_clade_seq', 'codiv_clade','lineage']]\n",
    "#print(blast_res_pass.head())\n",
    "print(blast_res_pass['codiv_clade'].value_counts())\n",
    "#output hits passing that will be used to determine the mcra of the lineage\n",
    "blast_res_pass.to_csv(f'{OUTDIR}/codiv_moeller_ASVs/codiv_clades_ASVs.txt',sep='\\t',index=False)\n"
   ]
  },
  {
   "cell_type": "markdown",
   "metadata": {},
   "source": [
    "### Determine HR clades that hit to Moeller co-div clades"
   ]
  },
  {
   "cell_type": "code",
   "execution_count": 64,
   "metadata": {},
   "outputs": [
    {
     "name": "stdout",
     "output_type": "stream",
     "text": [
      "(358, 27)\n",
      "codiv_clade         lineage\n",
      "Bt1_clade1_bonobo   Bt1         1\n",
      "Bt1_clade1_chimp    Bt1         1\n",
      "Bt1_clade1_gorilla  Bt1         1\n",
      "Bt2_clade1_bonobo   Bt2         1\n",
      "Bt2_clade1_chimp    Bt2         2\n",
      "Bt2_clade1_gorilla  Bt2         1\n",
      "Bt2_clade2_bonobo   Bt2         1\n",
      "Bt2_clade2_chimp    Bt2         1\n",
      "Bt3_clade1_bonobo   Bt3         1\n",
      "Bt3_clade1_chimp    Bt3         2\n",
      "Bt3_clade1_human    Bt3        17\n",
      "dtype: int64\n"
     ]
    }
   ],
   "source": [
    "print(clades_df.shape)\n",
    "clades_ASVs_codiv = clades_ASVs_df.merge(blast_res_pass, how='left', left_on='ASVs',right_on='ASV')\n",
    "clades_ASVs_codiv = clades_ASVs_codiv.drop(['ASV'],axis=1)\n",
    "clades_ASVs_codiv = clades_ASVs_codiv[~clades_ASVs_codiv['lineage'].isna()]\n",
    "clades_ASVs_codiv = clades_ASVs_codiv[['cladeName','codiv_clade','lineage']].drop_duplicates()\n",
    "clades_df_codiv = clades_df.merge(clades_ASVs_codiv, how='left',on='cladeName')\n",
    "print(clades_df_codiv.groupby(['codiv_clade','lineage']).size())"
   ]
  },
  {
   "cell_type": "code",
   "execution_count": 66,
   "metadata": {},
   "outputs": [],
   "source": [
    "#Output table for Figure 2 \n",
    "os.system(f'mkdir {OUTDIR}/figures')\n",
    "clades_df_sh = clades_df_codiv[['cladeName', 'cladeTax', 'sampleNum', 'ASVsNum', \n",
    "      'HR_sampleTypes', 'HR_sampleNum','HR_cat', 'HR_type', \n",
    "      'CP_pres','CP_prominent', 'CP_sampleTypes', 'CP_sampleNum','captiveNames',\n",
    "       'captive_bonobo', 'captive_chimp', 'captive_gorilla',\n",
    "       'captive_orangutan', 'non_western_human', 'western_human',\n",
    "       'wild_bonobo', 'wild_chimp', 'wild_gorilla',\n",
    "       'heatmap_col1','heatmap_col2','heatmap_col3',\n",
    "        'codiv_clade','lineage']]\n",
    "clades_df_sh.to_csv(f'{OUTDIR}/figures/HRclades_Figure2_table.txt',sep='\\t',index=False)"
   ]
  },
  {
   "cell_type": "markdown",
   "metadata": {},
   "source": [
    "### search full tree for host-restricted clades"
   ]
  },
  {
   "cell_type": "code",
   "execution_count": 68,
   "metadata": {},
   "outputs": [],
   "source": [
    "collasped_tree = Tree(tree_file, format=0)\n",
    "\n",
    "def collapse_node(tree,clade_ASVs,cladeName):\n",
    "    if len(clade_ASVs) > 1:\n",
    "        node = tree.get_common_ancestor(clade_ASVs)\n",
    "        node.name = cladeName\n",
    "        children = node.get_children()\n",
    "        node.remove_child(children[1])\n",
    "        node.remove_child(children[0])\n",
    "    else:\n",
    "        ASV = clade_ASVs[0]\n",
    "        leaf = tree.get_leaves_by_name(name=ASV)[0]\n",
    "        leaf.name = cladeName\n",
    "\n",
    "for clade,row in clades_df.iterrows():\n",
    "    collapse_node(collasped_tree,row['ASVs'],row['cladeName'])\n",
    "\n",
    "clade_leaves = [leaf for leaf in collasped_tree.get_leaves() if 'clade' in leaf.name] \n",
    "collasped_tree.prune(clade_leaves) #eliminate leftover ASVs and ref taxa\n",
    "collasped_tree.write(format=2, outfile=f'{OUTDIR}/figures/HRclades_Figure2.tre')\n"
   ]
  },
  {
   "cell_type": "markdown",
   "metadata": {},
   "source": [
    "### Table 2"
   ]
  },
  {
   "cell_type": "code",
   "execution_count": 80,
   "metadata": {},
   "outputs": [
    {
     "name": "stdout",
     "output_type": "stream",
     "text": [
      "358\n",
      "Index(['Bacteroidaceae_Bacteroides', 'Bacteroidaceae_Bacteroides_B',\n",
      "       'Bacteroidaceae_Prevotella', 'Bacteroidaceae_unclassified',\n",
      "       'Porphyromonadaceae_Porphyromonas', 'Rikenellaceae_Alistipes',\n",
      "       'Tannerellaceae_Parabacteroides'],\n",
      "      dtype='object', name='cladeTax')\n"
     ]
    },
    {
     "data": {
      "text/html": [
       "<div>\n",
       "<style scoped>\n",
       "    .dataframe tbody tr th:only-of-type {\n",
       "        vertical-align: middle;\n",
       "    }\n",
       "\n",
       "    .dataframe tbody tr th {\n",
       "        vertical-align: top;\n",
       "    }\n",
       "\n",
       "    .dataframe thead th {\n",
       "        text-align: right;\n",
       "    }\n",
       "</style>\n",
       "<table border=\"1\" class=\"dataframe\">\n",
       "  <thead>\n",
       "    <tr style=\"text-align: right;\">\n",
       "      <th>HR_type</th>\n",
       "      <th>HR_human</th>\n",
       "      <th>HR_wild_bonobo</th>\n",
       "      <th>HR_wild_chimp</th>\n",
       "      <th>HR_wild_gorilla</th>\n",
       "      <th>Unique_CP</th>\n",
       "      <th>MX</th>\n",
       "    </tr>\n",
       "    <tr>\n",
       "      <th>cladeTax</th>\n",
       "      <th></th>\n",
       "      <th></th>\n",
       "      <th></th>\n",
       "      <th></th>\n",
       "      <th></th>\n",
       "      <th></th>\n",
       "    </tr>\n",
       "  </thead>\n",
       "  <tbody>\n",
       "    <tr>\n",
       "      <th>Bacteroidaceae_Bacteroides</th>\n",
       "      <td>77.0</td>\n",
       "      <td>0.0</td>\n",
       "      <td>1.0</td>\n",
       "      <td>0.0</td>\n",
       "      <td>3.0</td>\n",
       "      <td>25.0</td>\n",
       "    </tr>\n",
       "    <tr>\n",
       "      <th>Bacteroidaceae_Bacteroides_B</th>\n",
       "      <td>17.0</td>\n",
       "      <td>0.0</td>\n",
       "      <td>0.0</td>\n",
       "      <td>0.0</td>\n",
       "      <td>0.0</td>\n",
       "      <td>3.0</td>\n",
       "    </tr>\n",
       "    <tr>\n",
       "      <th>Bacteroidaceae_Prevotella</th>\n",
       "      <td>77.0</td>\n",
       "      <td>8.0</td>\n",
       "      <td>9.0</td>\n",
       "      <td>5.0</td>\n",
       "      <td>3.0</td>\n",
       "      <td>5.0</td>\n",
       "    </tr>\n",
       "    <tr>\n",
       "      <th>Bacteroidaceae_unclassified</th>\n",
       "      <td>5.0</td>\n",
       "      <td>3.0</td>\n",
       "      <td>2.0</td>\n",
       "      <td>1.0</td>\n",
       "      <td>0.0</td>\n",
       "      <td>2.0</td>\n",
       "    </tr>\n",
       "    <tr>\n",
       "      <th>Porphyromonadaceae_Porphyromonas</th>\n",
       "      <td>13.0</td>\n",
       "      <td>0.0</td>\n",
       "      <td>0.0</td>\n",
       "      <td>0.0</td>\n",
       "      <td>0.0</td>\n",
       "      <td>0.0</td>\n",
       "    </tr>\n",
       "    <tr>\n",
       "      <th>Rikenellaceae_Alistipes</th>\n",
       "      <td>20.0</td>\n",
       "      <td>0.0</td>\n",
       "      <td>0.0</td>\n",
       "      <td>0.0</td>\n",
       "      <td>0.0</td>\n",
       "      <td>3.0</td>\n",
       "    </tr>\n",
       "    <tr>\n",
       "      <th>Tannerellaceae_Parabacteroides</th>\n",
       "      <td>21.0</td>\n",
       "      <td>1.0</td>\n",
       "      <td>3.0</td>\n",
       "      <td>0.0</td>\n",
       "      <td>0.0</td>\n",
       "      <td>5.0</td>\n",
       "    </tr>\n",
       "    <tr>\n",
       "      <th>Other_genera</th>\n",
       "      <td>32.0</td>\n",
       "      <td>1.0</td>\n",
       "      <td>5.0</td>\n",
       "      <td>3.0</td>\n",
       "      <td>1.0</td>\n",
       "      <td>4.0</td>\n",
       "    </tr>\n",
       "    <tr>\n",
       "      <th>Total</th>\n",
       "      <td>262.0</td>\n",
       "      <td>13.0</td>\n",
       "      <td>20.0</td>\n",
       "      <td>9.0</td>\n",
       "      <td>7.0</td>\n",
       "      <td>47.0</td>\n",
       "    </tr>\n",
       "  </tbody>\n",
       "</table>\n",
       "</div>"
      ],
      "text/plain": [
       "HR_type                           HR_human  HR_wild_bonobo  HR_wild_chimp  \\\n",
       "cladeTax                                                                    \n",
       "Bacteroidaceae_Bacteroides            77.0             0.0            1.0   \n",
       "Bacteroidaceae_Bacteroides_B          17.0             0.0            0.0   \n",
       "Bacteroidaceae_Prevotella             77.0             8.0            9.0   \n",
       "Bacteroidaceae_unclassified            5.0             3.0            2.0   \n",
       "Porphyromonadaceae_Porphyromonas      13.0             0.0            0.0   \n",
       "Rikenellaceae_Alistipes               20.0             0.0            0.0   \n",
       "Tannerellaceae_Parabacteroides        21.0             1.0            3.0   \n",
       "Other_genera                          32.0             1.0            5.0   \n",
       "Total                                262.0            13.0           20.0   \n",
       "\n",
       "HR_type                           HR_wild_gorilla  Unique_CP    MX  \n",
       "cladeTax                                                            \n",
       "Bacteroidaceae_Bacteroides                    0.0        3.0  25.0  \n",
       "Bacteroidaceae_Bacteroides_B                  0.0        0.0   3.0  \n",
       "Bacteroidaceae_Prevotella                     5.0        3.0   5.0  \n",
       "Bacteroidaceae_unclassified                   1.0        0.0   2.0  \n",
       "Porphyromonadaceae_Porphyromonas              0.0        0.0   0.0  \n",
       "Rikenellaceae_Alistipes                       0.0        0.0   3.0  \n",
       "Tannerellaceae_Parabacteroides                0.0        0.0   5.0  \n",
       "Other_genera                                  3.0        1.0   4.0  \n",
       "Total                                         9.0        7.0  47.0  "
      ]
     },
     "execution_count": 80,
     "metadata": {},
     "output_type": "execute_result"
    }
   ],
   "source": [
    "Table2 = clades_df.groupby(['cladeTax','HR_type']).size().reset_index(name=\"count\")\n",
    "Table2 = Table2.pivot(index='cladeTax', columns='HR_type')['count'].fillna(0)\n",
    "Table2['MX'] = Table2[['MX_2_wild_apes', 'MX_3_wild_apes',\n",
    "                 'MX_human_2_wild_apes', 'MX_human_single_wild_ape']].sum(axis=1)\n",
    "Table2 = Table2[['HR_human', 'HR_wild_bonobo', 'HR_wild_chimp', \n",
    "        'HR_wild_gorilla','Unique_CP', 'MX']]\n",
    "\n",
    "nclades = int(Table2.sum(axis=1).sum())\n",
    "print(nclades)\n",
    "#print(Table2.sum(axis=1))\n",
    "#Bacteroides_genera = ['Bacteroidaceae_Bacteroides','Bacteroidaceae_Bacteroides_A','Bacteroidaceae_Bacteroides_B']\n",
    "#Bacteroides_row = pd.Series(Table2.loc[Bacteroides_genera,:].sum(),name='Bacteroidaceae_Bacteroides_combined')\n",
    "#Table2 = Table2.append(Bacteroides_row).drop(Bacteroides_genera)\n",
    "\n",
    "taxa_over_5 = Table2[Table2.sum(axis=1)>10].sum(axis=1)\n",
    "print(taxa_over_5.index)\n",
    "Table2_sel_genera = Table2.loc[taxa_over_5.index,:]\n",
    "Table2_other_genera = pd.Series(Table2.drop(taxa_over_5.index).sum(),name='Other_genera')\n",
    "Table2_sel_genera = Table2_sel_genera.append(Table2_other_genera)\n",
    "\n",
    "Table2_sel_genera\n",
    "\n",
    "Table2_count = Table2_sel_genera.append(pd.Series(Table2_sel_genera.sum(),name='Total'))\n",
    "Table2_perc = Table2_count/Table2_sel_genera.sum()\n",
    "Table2_count"
   ]
  },
  {
   "cell_type": "markdown",
   "metadata": {},
   "source": [
    "### display table as a heatmap"
   ]
  },
  {
   "cell_type": "code",
   "execution_count": 83,
   "metadata": {},
   "outputs": [
    {
     "data": {
      "image/png": "[encoded data removed]",
      "text/plain": [
       "<Figure size 432x288 with 3 Axes>"
      ]
     },
     "metadata": {
      "needs_background": "light"
     },
     "output_type": "display_data"
    }
   ],
   "source": [
    "import seaborn as sns\n",
    "import matplotlib \n",
    "from matplotlib import pyplot as plt\n",
    "matplotlib.rcParams['font.family'] = 'sans-serif'\n",
    "matplotlib.rcParams['pdf.fonttype'] = 42\n",
    "matplotlib.rcParams['ps.fonttype'] = 42\n",
    "\n",
    "sns.heatmap(Table2_count, annot=True, cmap=\"Blues\")\n",
    "sns.heatmap(Table2_perc, cmap=\"Blues\")\n",
    "subprocess.call(f\"mkdir {OUTDIR}/tables\",shell=True)\n",
    "plt.savefig(f\"{OUTDIR}/tables/Table2_{nclades}clades.pdf\", transparent=True,bbox_inches=\"tight\")"
   ]
  },
  {
   "cell_type": "markdown",
   "metadata": {},
   "source": [
    "### Figure 3 output table"
   ]
  },
  {
   "cell_type": "code",
   "execution_count": 84,
   "metadata": {},
   "outputs": [
    {
     "name": "stdout",
     "output_type": "stream",
     "text": [
      "7596 total ASVs\n",
      "6957 ASVs that fall into HR clades\n",
      "344 ASVs that hit greater >95% identity to codiv clade\n",
      "taxonomic breakdown of ASVs\n",
      "f__Bacteroidaceae        5018\n",
      "f__Rikenellaceae          587\n",
      "f__UBA932                 412\n",
      "f__Tannerellaceae         404\n",
      "f__Porphyromonadaceae     344\n",
      "f__Muribaculaceae         333\n",
      "f__Marinifilaceae         180\n",
      "unclassified               97\n",
      "f__Barnesiellaceae         75\n",
      "f__Coprobacteraceae        40\n",
      "f__Paludibacteraceae       34\n",
      "f__Dysgonomonadaceae       32\n",
      "f__UBA11471                24\n",
      "f__Bacteroidaceae_A        14\n",
      "f__F082                     2\n",
      "Name: Family, dtype: int64\n",
      "taxonomic breakdown of ASVs found in captive apes\n",
      "f__Bacteroidaceae        103\n",
      "f__Tannerellaceae         29\n",
      "f__Porphyromonadaceae      5\n",
      "f__Paludibacteraceae       1\n",
      "f__Barnesiellaceae         1\n",
      "Name: Family, dtype: int64\n",
      "breakdown of HRtype for individual ASVs that dont fall into HR clades\n",
      "HR_human                    578\n",
      "HR_wild_chimp               104\n",
      "Unique_CP                    52\n",
      "HR_wild_gorilla              46\n",
      "MX_human_single_wild_ape     33\n",
      "HR_wild_bonobo               24\n",
      "MX_2_wild_apes                6\n",
      "MX_human_2_wild_apes          5\n",
      "Name: ASV_HR_type, dtype: int64\n",
      "breakdown of HRtype for individual ASVs that dont fall into HR clades\n",
      "HR_human           6105\n",
      "HR_wild_bonobo      354\n",
      "HR_wild_chimp       153\n",
      "HR_wild_gorilla      92\n",
      "Unique_CP            44\n",
      "Name: ASV_HR_type, dtype: int64\n"
     ]
    }
   ],
   "source": [
    "#taxonomic info, family and genus\n",
    "tax_table = pd.read_csv(tax_table_file,sep='\\t',index_col=None)\n",
    "tax_table['Family'] = tax_table['Family'].apply(lambda x: 'unclassified' if 'unclassified' in x else x)\n",
    "tax_table['Genus'] = tax_table['Genus'].apply(lambda x: 'unclassified' if 'unclassified' in x else x)\n",
    "tax_fam_dict = dict(zip(tax_table['ASV'], tax_table['Family']))\n",
    "tax_gen_dict = dict(zip(tax_table['ASV'], tax_table['Genus']))\n",
    "\n",
    "#sample to sample type category\n",
    "metadata = pd.read_csv(metadata_file,sep='\\t',index_col=None)\n",
    "sample_type_dict = dict(zip(metadata['X.SampleID'], metadata['Description']))\n",
    "\n",
    "#ASV to sample names dict\n",
    "asv_table = pd.read_csv(asv_table_file,sep='\\t',index_col=0)\n",
    "sampleNames = asv_table.apply(lambda row: list(row.index[row>0]),axis=1)\n",
    "ASV_sampleName_dict = dict(zip(sampleNames.index,sampleNames))\n",
    "\n",
    "#generate ASV dataframe \n",
    "allASVs = [leaf.name for leaf in full_tree.get_leaves() if 'ASV' in leaf.name]\n",
    "allASVs = pd.DataFrame(allASVs,columns=['ASV'])\n",
    "print(len(allASVs),'total ASVs')\n",
    "\n",
    "#Host restricted clades \n",
    "#print(clades_ASVs_df.head()) \n",
    "print(len(clades_ASVs_df),'ASVs that fall into HR clades')\n",
    "#Moeller codiv clades\n",
    "#print(blast_res_pass.head())\n",
    "print(len(blast_res_pass),'ASVs that hit greater >95% identity to codiv clade')\n",
    "\n",
    "#combine all ASVs, HR clade info, and codiv clade info\n",
    "allASVs_HRclade = allASVs.merge(clades_ASVs_df, how='left', left_on='ASV',right_on='ASVs')\n",
    "allASVs_HRclade_codiv = allASVs_HRclade.merge(blast_res_pass, how='left', on='ASV')\n",
    "allASVs_HRclade_codiv.head()\n",
    "\n",
    "#add taxonomy\n",
    "allASVs_HRclade_codiv['Family'] = allASVs_HRclade_codiv['ASV'].apply(lambda ASV: tax_fam_dict[ASV])\n",
    "allASVs_HRclade_codiv['Genus'] = allASVs_HRclade_codiv['ASV'].apply(lambda ASV: tax_gen_dict[ASV])\n",
    "print('taxonomic breakdown of ASVs')\n",
    "print(allASVs_HRclade_codiv['Family'].value_counts())\n",
    "\n",
    "#add captive sp and site description info\n",
    "metadata['Description_site'] = metadata['Description']+'_' +metadata['site_code']\n",
    "sample_type_site_dict = dict(zip(metadata['X.SampleID'], metadata['Description_site']))\n",
    "allASVs_HRclade_codiv['sampleNames'] = allASVs_HRclade_codiv['ASV'].apply(lambda x: ASV_sampleName_dict[x])\n",
    "description_df = allASVs_HRclade_codiv['sampleNames'].apply(lambda l: pd.Series(\n",
    "    [sample_type_site_dict[name] for name in l]).value_counts())\n",
    "description_df = description_df.fillna(0) \n",
    "description_cp_df= description_df[['captive_chimp_HOUZ','captive_gorilla_HOUZ','captive_orangutan_HOUZ',\n",
    "'captive_bonobo_COLZ','captive_gorilla_COLZ','captive_orangutan_COLZ','captive_chimp_PC']]\n",
    "allASVs_HRclade_codiv_cp = allASVs_HRclade_codiv.merge(description_cp_df, left_index=True,right_index=True)\n",
    "allASVs_HRclade_codiv_cp['captive_all'] = allASVs_HRclade_codiv_cp.loc[:,\n",
    "                        'captive_chimp_HOUZ':'captive_chimp_PC'].sum(axis=1)\n",
    "print('taxonomic breakdown of ASVs found in captive apes')\n",
    "print(allASVs_HRclade_codiv_cp[allASVs_HRclade_codiv_cp['captive_all']>0]['Family'].value_counts())\n",
    "\n",
    "#add ASV HR type, \n",
    "#ind ASVs in mixed clades may be HR, also ASV not in HR clades may be HR\n",
    "ASV_HR_type = gyrb_asvs[['ASV','HR_type']]\n",
    "ASV_HR_type.columns = ['ASV','ASV_HR_type']\n",
    "allASVs_HRclade_codiv_cp_asv = allASVs_HRclade_codiv_cp.merge(ASV_HR_type,how='left',on='ASV')\n",
    "print('breakdown of HRtype for individual ASVs that dont fall into HR clades')\n",
    "print(allASVs_HRclade_codiv_cp_asv[allASVs_HRclade_codiv_cp_asv['HR_cat']!='HR']['ASV_HR_type'].value_counts())\n",
    "print('breakdown of HRtype for individual ASVs that dont fall into HR clades')\n",
    "print(allASVs_HRclade_codiv_cp_asv[allASVs_HRclade_codiv_cp_asv['HR_cat']=='HR']['ASV_HR_type'].value_counts())\n",
    "allASVs_HRclade_codiv_cp_asv = allASVs_HRclade_codiv_cp_asv.drop(columns = ['sampleNames','ASVs'])\n",
    "\n",
    "allASVs_HRclade_codiv_cp_asv.to_csv(f'{OUTDIR}/figures/Figure3_table.txt',sep='\\t',index=False)\n"
   ]
  },
  {
   "cell_type": "code",
   "execution_count": null,
   "metadata": {},
   "outputs": [],
   "source": []
  }
 ],
 "metadata": {
  "kernelspec": {
   "display_name": "Python [conda env:ete]",
   "language": "python",
   "name": "conda-env-ete-py"
  },
  "language_info": {
   "codemirror_mode": {
    "name": "ipython",
    "version": 3
   },
   "file_extension": ".py",
   "mimetype": "text/x-python",
   "name": "python",
   "nbconvert_exporter": "python",
   "pygments_lexer": "ipython3",
   "version": "3.6.10"
  }
 },
 "nbformat": 4,
 "nbformat_minor": 4
}
